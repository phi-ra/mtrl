{
 "cells": [
  {
   "cell_type": "code",
   "execution_count": null,
   "metadata": {},
   "outputs": [],
   "source": [
    "import os\n",
    "os.chdir('/Users/philippratz/Documents/Uni/PhD/UQAM/courses/RL/mcgill_precup/project/')\n",
    "\n",
    "import numpy as np\n",
    "import pandas as pd\n",
    "import random\n",
    "from collections import namedtuple, deque\n",
    "from copy import deepcopy\n",
    "\n",
    "\n",
    "# Torch\n",
    "import torch\n",
    "import torch.nn as nn\n",
    "import torch.nn.functional as F\n",
    "from torch.utils.data import Dataset, DataLoader\n",
    "import torch.optim as optim\n",
    "\n",
    "import matplotlib.pyplot as plt"
   ]
  },
  {
   "cell_type": "code",
   "execution_count": 2,
   "metadata": {},
   "outputs": [],
   "source": [
    "%load_ext pycodestyle_magic\n",
    "%load_ext autoreload"
   ]
  },
  {
   "cell_type": "code",
   "execution_count": 3,
   "metadata": {},
   "outputs": [],
   "source": [
    "%autoreload 2\n",
    "from main.environment.simple_environment import SimpleEconEnvironment"
   ]
  },
  {
   "cell_type": "code",
   "execution_count": 225,
   "metadata": {},
   "outputs": [],
   "source": [
    "class BaseMLP(nn.Module):\n",
    "    def __init__(self, arch,\n",
    "                 input_size=2,\n",
    "                 output_size = 1,\n",
    "                 dropout=0.1):\n",
    "        super().__init__()\n",
    "        self.output_size = output_size\n",
    "        self.input_size = input_size\n",
    "        self.layers = nn.ModuleList()\n",
    "        self.dropout = nn.Dropout(dropout)\n",
    "        self._set_arch(arch, input_size)\n",
    "        \n",
    "    def _set_arch(self, arch, input_size):\n",
    "        current_size = input_size\n",
    "        for lay_size in arch:\n",
    "            self.layers.append(nn.Linear(current_size, lay_size))\n",
    "            current_size = lay_size\n",
    "            \n",
    "        self.final_layer = nn.Linear(current_size, self.output_size)\n",
    "\n",
    "    def forward(self, x):\n",
    "        for lay_ in self.layers:\n",
    "            x = F.relu(lay_(x))\n",
    "            x = self.dropout(x)\n",
    "            \n",
    "        x = self.final_layer(x)\n",
    "        \n",
    "        return x\n",
    "    \n",
    "Transition = namedtuple('Transition',\n",
    "                        ('state', 'action', 'next_state', 'reward'))\n",
    "\n",
    "\n",
    "class ReplayMemory(object):\n",
    "\n",
    "    def __init__(self, capacity):\n",
    "        self.memory = deque([], maxlen=capacity)\n",
    "\n",
    "    def push(self, *args):\n",
    "        \"\"\"Save a transition\"\"\"\n",
    "        self.memory.append(Transition(*args))\n",
    "\n",
    "    def sample(self, batch_size):\n",
    "        return random.sample(self.memory, batch_size)\n",
    "\n",
    "    def __len__(self):\n",
    "        return len(self.memory)\n",
    "    \n",
    "def init_weights(lay):\n",
    "    if isinstance(lay, nn.Linear):\n",
    "        torch.nn.init.xavier_normal_(lay.weight)\n",
    "        lay.bias.data.fill_(1.0)\n",
    "    \n",
    "\n",
    "def initalize_replay_buffer(enviornment_, state_memory_length=1, players=2):\n",
    "    replay_buffer = ReplayMemory(1000)\n",
    "    \n",
    "    state_vec = np.random.uniform(low=1, high=2.5, size=(state_memory_length*players, ))\n",
    "\n",
    "    for simple_mem in range(128):\n",
    "        # will left append new states so need the last two prices\n",
    "        all_demands = enviornment_(state_vec[-1], state_vec[-2])\n",
    "\n",
    "        demand_1 = all_demands[0]\n",
    "\n",
    "        state = torch.from_numpy(np.float32(state_vec)).reshape(1,-1)\n",
    "        action = torch.tensor([random.choices(range(15), k=1)]).reshape(1,-1)\n",
    "        # get last price (aka players price from state)\n",
    "        reward = torch.tensor((state_vec[-1] - 1)*demand_1).reshape(1,-1)\n",
    "\n",
    "        # sample new prices\n",
    "        new_prices = np.random.uniform(low=1, high=2.5, size=(players,))\n",
    "\n",
    "        # set up next state\n",
    "        next_state_vec = np.concatenate([state_vec[players:], new_prices])\n",
    "        next_state = torch.from_numpy(np.float32(next_state_vec)).reshape(1,-1)\n",
    "\n",
    "        replay_buffer.push(state, action, next_state, reward)\n",
    "\n",
    "        state_vec = next_state_vec\n",
    "\n",
    "    return replay_buffer\n",
    "\n",
    "def train_model(replay_buffer,\n",
    "                model,\n",
    "                target_model,\n",
    "                optimizer,\n",
    "                batch_size=128, \n",
    "                gamma=0.99):\n",
    "\n",
    "    trans_sample = replay_buffer.sample(batch_size)\n",
    "    batch = Transition(*zip(*trans_sample))\n",
    "\n",
    "    sample_state = torch.cat(batch.state)\n",
    "    sample_reward = torch.cat(batch.reward)\n",
    "    sample_action = torch.cat(batch.action)\n",
    "    sample_next_state = torch.cat(batch.next_state)\n",
    "\n",
    "    # cast to avoid issues with torch\n",
    "    sample_state = sample_state.type(torch.FloatTensor)\n",
    "    sample_next_state = sample_next_state.type(torch.FloatTensor)\n",
    "\n",
    "    q_values_hat = model(sample_state).gather(1,sample_action)\n",
    "\n",
    "    # No grad here as we do not optimize target net\n",
    "    target_model.eval()\n",
    "    with torch.no_grad():\n",
    "        next_q_val, _ = target_model(sample_next_state).max(1)\n",
    "    target_model.train()\n",
    "    \n",
    "    target_value = sample_reward.squeeze() + gamma* next_q_val\n",
    "    \n",
    "    criterion = nn.SmoothL1Loss()\n",
    "    loss = criterion(q_values_hat.squeeze(), target_value)\n",
    "\n",
    "    optimizer.zero_grad()\n",
    "    loss.backward()\n",
    "    # In-place gradient clipping\n",
    "    torch.nn.utils.clip_grad_value_(model.parameters(), 100)\n",
    "    optimizer.step()\n",
    "\n",
    "\n",
    "def soft_update_nets(model, target_model, tau):\n",
    "    target_states = target_model.state_dict()\n",
    "    model_states = model.state_dict()\n",
    "\n",
    "    for key in model_states:\n",
    "        target_states[key] = tau*model_states[key] + (1-tau)*target_states[key]\n",
    "    target_model.load_state_dict(target_states)\n",
    "\n",
    "\n",
    "def select_action_training(model, state, epsilon, n_actions=15):\n",
    "     if np.random.uniform() > epsilon:\n",
    "        model.eval()\n",
    "        with torch.no_grad():\n",
    "            _, action_idx = model(state).reshape(1,-1).max(1)\n",
    "\n",
    "        model.train()\n",
    "        return action_idx\n",
    "     else:\n",
    "        return torch.tensor([random.choices(range(n_actions), k=1)])\n",
    "    "
   ]
  },
  {
   "cell_type": "code",
   "execution_count": 202,
   "metadata": {},
   "outputs": [
    {
     "data": {
      "text/plain": [
       "[1.5964649999999998,\n",
       " 1.6519281428571428,\n",
       " 1.7073912857142857,\n",
       " 1.7628544285714285,\n",
       " 1.8183175714285715,\n",
       " 1.8737807142857141,\n",
       " 1.9292438571428572,\n",
       " 1.984707]"
      ]
     },
     "execution_count": 202,
     "metadata": {},
     "output_type": "execute_result"
    }
   ],
   "source": [
    "list(action_dict.values())[-8:]"
   ]
  },
  {
   "cell_type": "code",
   "execution_count": 205,
   "metadata": {},
   "outputs": [],
   "source": [
    "envir_two_agents = SimpleEconEnvironment()"
   ]
  },
  {
   "cell_type": "code",
   "execution_count": 214,
   "metadata": {},
   "outputs": [
    {
     "data": {
      "text/plain": [
       "tensor([[1.7074, 1.6519]])"
      ]
     },
     "execution_count": 214,
     "metadata": {},
     "output_type": "execute_result"
    }
   ],
   "source": [
    "state"
   ]
  },
  {
   "cell_type": "code",
   "execution_count": 215,
   "metadata": {},
   "outputs": [],
   "source": [
    "buf_1 = ReplayMemory(10000)\n",
    "buf_2 = ReplayMemory(10000)\n",
    "\n",
    "for k in range(10000):\n",
    "    price_a1 = np.random.choice(list(action_dict.values())[-8:])\n",
    "    price_a2 = np.random.choice(list(action_dict.values())[-8:])\n",
    "\n",
    "    action_a1 = torch.tensor(price_a1, dtype=torch.float32)\n",
    "    action_a2 = torch.tensor(price_a1, dtype=torch.float32)\n",
    "\n",
    "    price_tensor = torch.tensor([price_a1, price_a2], \n",
    "                                                dtype=torch.float32).reshape(1,-1)\n",
    "                    \n",
    "    demand_1, demand_2 = envir_two_agents(price_a1, price_a2)\n",
    "\n",
    "    reward_a1 = torch.tensor((price_a1 - 1)*demand_1, dtype=torch.float32).reshape(1,-1)\n",
    "    reward_a2 = torch.tensor((price_a2 - 1)*demand_2, dtype=torch.float32).reshape(1,-1)\n",
    "\n",
    "    next_state = torch.cat([state[:,players:], price_tensor], 1)\n",
    "\n",
    "    buf_1.push(state, action_a1.reshape(1,1), next_state, reward_a1)\n",
    "    buf_2.push(state, action_a2.reshape(1,1), next_state, reward_a2)\n",
    "\n",
    "    state = next_state\n"
   ]
  },
  {
   "cell_type": "code",
   "execution_count": 216,
   "metadata": {},
   "outputs": [],
   "source": [
    "with open('data/buffers/buf_1.pkl', 'wb') as con_:\n",
    "    pickle.dump(buf_1, con_)\n",
    "\n",
    "with open('data/buffers/buf_2.pkl', 'wb') as con_:\n",
    "    pickle.dump(buf_2, con_)"
   ]
  },
  {
   "cell_type": "code",
   "execution_count": null,
   "metadata": {},
   "outputs": [],
   "source": [
    "class DQNAgent:\n",
    "    def __init__(self, \n",
    "                 base_model: nn.Module, \n",
    "                 replay_buffer: ReplayMemory, \n",
    "                 gamma: float, \n",
    "                 lr: float,\n",
    "                 weight_decay: float, \n",
    "                 tau: float, \n",
    "                 batch_size: int,\n",
    "                 n_actions=15, \n",
    "                 loss_fct = nn.SmoothL1Loss()) -> None:\n",
    "        self.policy_net = base_model\n",
    "        self.target_net = deepcopy(base_model)\n",
    "        self.buffer = replay_buffer\n",
    "        self.optimizer = optim.AdamW(self.policy_net.parameters(),\n",
    "                                     lr=lr,\n",
    "                                     amsgrad=True,\n",
    "                                     weight_decay=weight_decay)\n",
    "        self.tau =tau\n",
    "        self.gamma = gamma\n",
    "        self.batch_size = batch_size\n",
    "        self.n_actions = n_actions\n",
    "        self.criterion = loss_fct\n",
    "        \n",
    "        # Initialize nets\n",
    "        self.policy_net.apply(self._init_weights)\n",
    "        self.target_net.load_state_dict(self.policy_net.state_dict())\n",
    "\n",
    "    def _init_weights(self, lay):\n",
    "        if isinstance(lay, nn.Linear):\n",
    "            torch.nn.init.xavier_normal_(lay.weight)\n",
    "            lay.bias.data.fill_(1.0)\n",
    "\n",
    "    def sample_action(self, state, epsilon):\n",
    "        if np.random.uniform() > epsilon:\n",
    "            self.policy_net.eval()\n",
    "            with torch.no_grad():\n",
    "                action_idx = self.policy_net(state).argmax()\n",
    "            self.policy_net.train()\n",
    "            return action_idx\n",
    "        else:\n",
    "            return torch.tensor(random.choices(range(self.n_actions), k=1)[0])\n",
    "\n",
    "    def update_target(self):\n",
    "        model_states = self.policy_net.state_dict()\n",
    "        target_states = self.target_net.state_dict()\n",
    "\n",
    "        for key in model_states:\n",
    "            target_states[key] = self.tau*model_states[key] + (1-self.tau)*target_states[key]\n",
    "        self.target_net.load_state_dict(target_states)\n",
    "\n",
    "    def update_policy(self):\n",
    "        if len(self.buffer) < self.batch_size:\n",
    "            return\n",
    "        sample = self.buffer.sample(self.batch_size)\n",
    "        batch = Transition(*zip(*sample))\n",
    "\n",
    "        state_s = torch.cat(batch.state)\n",
    "        reward_s = torch.cat(batch.reward)\n",
    "        action_s = torch.cat(batch.action)\n",
    "        next_state_s = torch.cat(batch.next_state)\n",
    "\n",
    "        # Get updates\n",
    "        q_values_hat = self.policy_net(state_s).gather(1, action_s).squeeze()\n",
    "        \n",
    "        with torch.no_grad():\n",
    "            self.target_net.eval()\n",
    "            next_q_values, _ = self.target_net(next_state_s).max(1)\n",
    "            self.target_net.train()\n",
    "\n",
    "        target_value = self.gamma * next_q_values.squeeze() + reward_s.squeeze()\n",
    "\n",
    "        policy_loss = self.criterion(q_values_hat, target_value)\n",
    "        self.optimizer.zero_grad()\n",
    "        policy_loss.backward()\n",
    "        torch.nn.utils.clip_grad_value_(self.policy_net.parameters(),\n",
    "                                        100)\n",
    "        self.optimizer.step()\n",
    "\n",
    "\n"
   ]
  },
  {
   "cell_type": "code",
   "execution_count": null,
   "metadata": {},
   "outputs": [],
   "source": [
    "tau = 0.025\n",
    "tau_decay=0\n",
    "learning_rate=0.025"
   ]
  },
  {
   "cell_type": "code",
   "execution_count": 385,
   "metadata": {},
   "outputs": [
    {
     "name": "stdout",
     "output_type": "stream",
     "text": [
      "0.24004402204846026\n",
      "0.241292763053102\n",
      "0.22796586286014844\n",
      "0.22832776285067535\n",
      "0.22486154052998814\n",
      "0.22668472812871998\n"
     ]
    }
   ],
   "source": [
    "for lr in [0.025,0.05,0.1]:\n",
    "\n",
    "    gamma=0.99\n",
    "   # lr=0.05\n",
    "    weight_decay=1e-6\n",
    "    beta = 2e-5\n",
    "    tau=0.025\n",
    "    tau_decay = 1e-7\n",
    "    players=2\n",
    "    state_memory=1\n",
    "\n",
    "    batch_size=64\n",
    "    arch_ = [7,7,7]\n",
    "    dropout=0\n",
    "\n",
    "    eps=0.95\n",
    "\n",
    "    num_experiments = 1\n",
    "    num_steps = 450000\n",
    "    shift_delay = 1\n",
    "\n",
    "    all_rewards_1 = []\n",
    "    all_rewards_2 = []\n",
    "\n",
    "    for exper_ in range(num_experiments):\n",
    "\n",
    "        environment_two_actors = SimpleEconEnvironment()\n",
    "\n",
    "        base_net_1 = BaseMLP(arch_,\n",
    "                            input_size=players*state_memory,\n",
    "                            output_size=15,\n",
    "                            dropout=dropout)\n",
    "        buffer_1 = ReplayMemory(1000)\n",
    "        agent_1 = DQNAgent(base_net_1,\n",
    "                        buffer_1,\n",
    "                        gamma=gamma,\n",
    "                        lr=lr, \n",
    "                        weight_decay=weight_decay, \n",
    "                        tau=tau, \n",
    "                        batch_size=batch_size)\n",
    "\n",
    "        base_net_2 = BaseMLP(arch_,\n",
    "                            input_size=players*state_memory,\n",
    "                            output_size=15,\n",
    "                            dropout=dropout)\n",
    "        buffer_2 = ReplayMemory(1000)\n",
    "        agent_2 = DQNAgent(base_net_2,\n",
    "                        buffer_2,\n",
    "                        gamma=gamma,\n",
    "                        lr=lr, \n",
    "                        weight_decay=weight_decay, \n",
    "                        tau=tau, \n",
    "                        batch_size=batch_size)\n",
    "        \n",
    "        # Initialize state\n",
    "        np.random.seed(exper_)\n",
    "        state = torch.tensor(np.random.uniform(low=1.47,\n",
    "                                                high=2,\n",
    "                                                size=(players*state_memory,)),\n",
    "                            dtype=torch.float32).reshape(1,players*state_memory)\n",
    "        \n",
    "        # create action to value dict\n",
    "        linspace_ = np.linspace(1.47293 - 0.1*(1.92-1.47293),\n",
    "                                1.92  + 0.1*(1.92-1.47293), \n",
    "                                15)\n",
    "        action_dict = dict(zip(range(15), linspace_))\n",
    "\n",
    "        rewards_1 = []\n",
    "        rewards_2 = []\n",
    "\n",
    "        for step in range(num_steps):\n",
    "            action_1 = agent_1.sample_action(state, epsilon=eps)\n",
    "            action_val_1 = action_dict[int(action_1)]\n",
    "\n",
    "            action_2 = agent_2.sample_action(state, epsilon=eps)\n",
    "            action_val_2 = action_dict[int(action_2)]\n",
    "                    \n",
    "            demand_1, demand_2 = environment_two_actors(action_val_1, action_val_2)\n",
    "\n",
    "            reward_a1 = torch.tensor((action_val_1 - 1)*demand_1, dtype=torch.float32).reshape(1,-1)\n",
    "            reward_a2 = torch.tensor((action_val_2 - 1)*demand_2, dtype=torch.float32).reshape(1,-1)\n",
    "\n",
    "            rewards_1.append((action_val_1 - 1)*demand_1)\n",
    "            rewards_2.append((action_val_2 - 1)*demand_2)\n",
    "\n",
    "            price_tensor = torch.tensor([action_val_1, action_val_2],\n",
    "                                        dtype=torch.float32).reshape(1,-1)\n",
    "            next_state = torch.cat([state[:,players:], price_tensor], 1)\n",
    "\n",
    "            agent_1.buffer.push(state, action_1.reshape(1,1), next_state, reward_a1)\n",
    "            agent_2.buffer.push(state, action_2.reshape(1,1), next_state, reward_a2)\n",
    "\n",
    "            agent_1.update_policy()\n",
    "            agent_2.update_policy()\n",
    "\n",
    "            state = next_state\n",
    "\n",
    "            eps = np.exp(-step*beta)\n",
    "\n",
    "            if step % shift_delay == 0:\n",
    "                agent_1.update_target()\n",
    "                agent_2.update_target()\n",
    "\n",
    "                agent_1.tau = tau*(1-tau_decay)\n",
    "                agent_2.tau = tau*(1-tau_decay)\n",
    "\n",
    "        print(np.mean(rewards_1[-1000:]))\n",
    "        print(np.mean(rewards_2[-1000:]))\n",
    "        all_rewards_1.append(rewards_1)\n",
    "        all_rewards_2.append(rewards_2)\n"
   ]
  },
  {
   "cell_type": "code",
   "execution_count": 386,
   "metadata": {},
   "outputs": [
    {
     "name": "stdout",
     "output_type": "stream",
     "text": [
      "0.22712185313899638\n",
      "0.22629991149930395\n",
      "0.22888400004439208\n",
      "0.23146147050600574\n",
      "0.22649022832103408\n",
      "0.22633739465984404\n"
     ]
    }
   ],
   "source": [
    "for weight_decay in [1e-6,5e-6,1e-5]:\n",
    "\n",
    "    gamma=0.99\n",
    "    lr=0.05\n",
    "    #weight_decay=1e-6\n",
    "    beta = 2e-5\n",
    "    tau=0.025\n",
    "    tau_decay = 1e-7\n",
    "    players=2\n",
    "    state_memory=1\n",
    "\n",
    "    batch_size=64\n",
    "    arch_ = [7,7,7]\n",
    "    dropout=0\n",
    "\n",
    "    eps=0.95\n",
    "\n",
    "    num_experiments = 1\n",
    "    num_steps = 450000\n",
    "    shift_delay = 1\n",
    "\n",
    "    all_rewards_1 = []\n",
    "    all_rewards_2 = []\n",
    "\n",
    "    for exper_ in range(num_experiments):\n",
    "\n",
    "        environment_two_actors = SimpleEconEnvironment()\n",
    "\n",
    "        base_net_1 = BaseMLP(arch_,\n",
    "                            input_size=players*state_memory,\n",
    "                            output_size=15,\n",
    "                            dropout=dropout)\n",
    "        buffer_1 = ReplayMemory(1000)\n",
    "        agent_1 = DQNAgent(base_net_1,\n",
    "                        buffer_1,\n",
    "                        gamma=gamma,\n",
    "                        lr=lr, \n",
    "                        weight_decay=weight_decay, \n",
    "                        tau=tau, \n",
    "                        batch_size=batch_size)\n",
    "\n",
    "        base_net_2 = BaseMLP(arch_,\n",
    "                            input_size=players*state_memory,\n",
    "                            output_size=15,\n",
    "                            dropout=dropout)\n",
    "        buffer_2 = ReplayMemory(1000)\n",
    "        agent_2 = DQNAgent(base_net_2,\n",
    "                        buffer_2,\n",
    "                        gamma=gamma,\n",
    "                        lr=lr, \n",
    "                        weight_decay=weight_decay, \n",
    "                        tau=tau, \n",
    "                        batch_size=batch_size)\n",
    "        \n",
    "        # Initialize state\n",
    "        np.random.seed(exper_)\n",
    "        state = torch.tensor(np.random.uniform(low=1.47,\n",
    "                                                high=2,\n",
    "                                                size=(players*state_memory,)),\n",
    "                            dtype=torch.float32).reshape(1,players*state_memory)\n",
    "        \n",
    "        # create action to value dict\n",
    "        linspace_ = np.linspace(1.47293 - 0.1*(1.92-1.47293),\n",
    "                                1.92  + 0.1*(1.92-1.47293), \n",
    "                                15)\n",
    "        action_dict = dict(zip(range(15), linspace_))\n",
    "\n",
    "        rewards_1 = []\n",
    "        rewards_2 = []\n",
    "\n",
    "        for step in range(num_steps):\n",
    "            action_1 = agent_1.sample_action(state, epsilon=eps)\n",
    "            action_val_1 = action_dict[int(action_1)]\n",
    "\n",
    "            action_2 = agent_2.sample_action(state, epsilon=eps)\n",
    "            action_val_2 = action_dict[int(action_2)]\n",
    "                    \n",
    "            demand_1, demand_2 = environment_two_actors(action_val_1, action_val_2)\n",
    "\n",
    "            reward_a1 = torch.tensor((action_val_1 - 1)*demand_1, dtype=torch.float32).reshape(1,-1)\n",
    "            reward_a2 = torch.tensor((action_val_2 - 1)*demand_2, dtype=torch.float32).reshape(1,-1)\n",
    "\n",
    "            rewards_1.append((action_val_1 - 1)*demand_1)\n",
    "            rewards_2.append((action_val_2 - 1)*demand_2)\n",
    "\n",
    "            price_tensor = torch.tensor([action_val_1, action_val_2],\n",
    "                                        dtype=torch.float32).reshape(1,-1)\n",
    "            next_state = torch.cat([state[:,players:], price_tensor], 1)\n",
    "\n",
    "            agent_1.buffer.push(state, action_1.reshape(1,1), next_state, reward_a1)\n",
    "            agent_2.buffer.push(state, action_2.reshape(1,1), next_state, reward_a2)\n",
    "\n",
    "            agent_1.update_policy()\n",
    "            agent_2.update_policy()\n",
    "\n",
    "            state = next_state\n",
    "\n",
    "            eps = np.exp(-step*beta)\n",
    "\n",
    "            if step % shift_delay == 0:\n",
    "                agent_1.update_target()\n",
    "                agent_2.update_target()\n",
    "\n",
    "                agent_1.tau = tau*(1-tau_decay)\n",
    "                agent_2.tau = tau*(1-tau_decay)\n",
    "\n",
    "        print(np.mean(rewards_1[-1000:]))\n",
    "        print(np.mean(rewards_2[-1000:]))\n",
    "        all_rewards_1.append(rewards_1)\n",
    "        all_rewards_2.append(rewards_2)\n"
   ]
  },
  {
   "cell_type": "code",
   "execution_count": 387,
   "metadata": {},
   "outputs": [
    {
     "name": "stdout",
     "output_type": "stream",
     "text": [
      "0.22427730601608065\n",
      "0.22435579612703935\n",
      "0.2180203634877009\n",
      "0.2207161299204078\n",
      "0.22511726863533107\n",
      "0.2239138211210367\n"
     ]
    }
   ],
   "source": [
    "for beta in [2e-5, 5e-5, 9e-5]:\n",
    "\n",
    "    gamma=0.99\n",
    "    lr=0.05\n",
    "    weight_decay=1e-6\n",
    "   # beta = 2e-5\n",
    "    tau=0.025\n",
    "    tau_decay = 1e-7\n",
    "    players=2\n",
    "    state_memory=1\n",
    "\n",
    "    batch_size=64\n",
    "    arch_ = [7,7,7]\n",
    "    dropout=0\n",
    "\n",
    "    eps=0.95\n",
    "\n",
    "    num_experiments = 1\n",
    "    num_steps = 450000\n",
    "    shift_delay = 1\n",
    "\n",
    "    all_rewards_1 = []\n",
    "    all_rewards_2 = []\n",
    "\n",
    "    for exper_ in range(num_experiments):\n",
    "\n",
    "        environment_two_actors = SimpleEconEnvironment()\n",
    "\n",
    "        base_net_1 = BaseMLP(arch_,\n",
    "                            input_size=players*state_memory,\n",
    "                            output_size=15,\n",
    "                            dropout=dropout)\n",
    "        buffer_1 = ReplayMemory(1000)\n",
    "        agent_1 = DQNAgent(base_net_1,\n",
    "                        buffer_1,\n",
    "                        gamma=gamma,\n",
    "                        lr=lr, \n",
    "                        weight_decay=weight_decay, \n",
    "                        tau=tau, \n",
    "                        batch_size=batch_size)\n",
    "\n",
    "        base_net_2 = BaseMLP(arch_,\n",
    "                            input_size=players*state_memory,\n",
    "                            output_size=15,\n",
    "                            dropout=dropout)\n",
    "        buffer_2 = ReplayMemory(1000)\n",
    "        agent_2 = DQNAgent(base_net_2,\n",
    "                        buffer_2,\n",
    "                        gamma=gamma,\n",
    "                        lr=lr, \n",
    "                        weight_decay=weight_decay, \n",
    "                        tau=tau, \n",
    "                        batch_size=batch_size)\n",
    "        \n",
    "        # Initialize state\n",
    "        np.random.seed(exper_)\n",
    "        state = torch.tensor(np.random.uniform(low=1.47,\n",
    "                                                high=2,\n",
    "                                                size=(players*state_memory,)),\n",
    "                            dtype=torch.float32).reshape(1,players*state_memory)\n",
    "        \n",
    "        # create action to value dict\n",
    "        linspace_ = np.linspace(1.47293 - 0.1*(1.92-1.47293),\n",
    "                                1.92  + 0.1*(1.92-1.47293), \n",
    "                                15)\n",
    "        action_dict = dict(zip(range(15), linspace_))\n",
    "\n",
    "        rewards_1 = []\n",
    "        rewards_2 = []\n",
    "\n",
    "        for step in range(num_steps):\n",
    "            action_1 = agent_1.sample_action(state, epsilon=eps)\n",
    "            action_val_1 = action_dict[int(action_1)]\n",
    "\n",
    "            action_2 = agent_2.sample_action(state, epsilon=eps)\n",
    "            action_val_2 = action_dict[int(action_2)]\n",
    "                    \n",
    "            demand_1, demand_2 = environment_two_actors(action_val_1, action_val_2)\n",
    "\n",
    "            reward_a1 = torch.tensor((action_val_1 - 1)*demand_1, dtype=torch.float32).reshape(1,-1)\n",
    "            reward_a2 = torch.tensor((action_val_2 - 1)*demand_2, dtype=torch.float32).reshape(1,-1)\n",
    "\n",
    "            rewards_1.append((action_val_1 - 1)*demand_1)\n",
    "            rewards_2.append((action_val_2 - 1)*demand_2)\n",
    "\n",
    "            price_tensor = torch.tensor([action_val_1, action_val_2],\n",
    "                                        dtype=torch.float32).reshape(1,-1)\n",
    "            next_state = torch.cat([state[:,players:], price_tensor], 1)\n",
    "\n",
    "            agent_1.buffer.push(state, action_1.reshape(1,1), next_state, reward_a1)\n",
    "            agent_2.buffer.push(state, action_2.reshape(1,1), next_state, reward_a2)\n",
    "\n",
    "            agent_1.update_policy()\n",
    "            agent_2.update_policy()\n",
    "\n",
    "            state = next_state\n",
    "\n",
    "            eps = np.exp(-step*beta)\n",
    "\n",
    "            if step % shift_delay == 0:\n",
    "                agent_1.update_target()\n",
    "                agent_2.update_target()\n",
    "\n",
    "                agent_1.tau = tau*(1-tau_decay)\n",
    "                agent_2.tau = tau*(1-tau_decay)\n",
    "\n",
    "        print(np.mean(rewards_1[-1000:]))\n",
    "        print(np.mean(rewards_2[-1000:]))\n",
    "        all_rewards_1.append(rewards_1)\n",
    "        all_rewards_2.append(rewards_2)\n"
   ]
  },
  {
   "cell_type": "code",
   "execution_count": 388,
   "metadata": {},
   "outputs": [
    {
     "name": "stdout",
     "output_type": "stream",
     "text": [
      "0.22435373347128126\n",
      "0.22536834781513934\n",
      "0.22661782363789928\n",
      "0.2277638721854143\n",
      "0.2273520386907497\n",
      "0.22893526606751385\n"
     ]
    }
   ],
   "source": [
    "for state_memory in [1,5,10]:\n",
    "\n",
    "    gamma=0.99\n",
    "    lr=0.05\n",
    "    weight_decay=1e-6\n",
    "    beta = 2e-5\n",
    "    tau=0.025\n",
    "    tau_decay = 1e-7\n",
    "    players=2\n",
    "    #state_memory=1\n",
    "\n",
    "    batch_size=64\n",
    "    arch_ = [7,7,7]\n",
    "    dropout=0\n",
    "\n",
    "    eps=0.95\n",
    "\n",
    "    num_experiments = 1\n",
    "    num_steps = 450000\n",
    "    shift_delay = 1\n",
    "\n",
    "    all_rewards_1 = []\n",
    "    all_rewards_2 = []\n",
    "\n",
    "    for exper_ in range(num_experiments):\n",
    "\n",
    "        environment_two_actors = SimpleEconEnvironment()\n",
    "\n",
    "        base_net_1 = BaseMLP(arch_,\n",
    "                            input_size=players*state_memory,\n",
    "                            output_size=15,\n",
    "                            dropout=dropout)\n",
    "        buffer_1 = ReplayMemory(1000)\n",
    "        agent_1 = DQNAgent(base_net_1,\n",
    "                        buffer_1,\n",
    "                        gamma=gamma,\n",
    "                        lr=lr, \n",
    "                        weight_decay=weight_decay, \n",
    "                        tau=tau, \n",
    "                        batch_size=batch_size)\n",
    "\n",
    "        base_net_2 = BaseMLP(arch_,\n",
    "                            input_size=players*state_memory,\n",
    "                            output_size=15,\n",
    "                            dropout=dropout)\n",
    "        buffer_2 = ReplayMemory(1000)\n",
    "        agent_2 = DQNAgent(base_net_2,\n",
    "                        buffer_2,\n",
    "                        gamma=gamma,\n",
    "                        lr=lr, \n",
    "                        weight_decay=weight_decay, \n",
    "                        tau=tau, \n",
    "                        batch_size=batch_size)\n",
    "        \n",
    "        # Initialize state\n",
    "        np.random.seed(exper_)\n",
    "        state = torch.tensor(np.random.uniform(low=1.47,\n",
    "                                                high=2,\n",
    "                                                size=(players*state_memory,)),\n",
    "                            dtype=torch.float32).reshape(1,players*state_memory)\n",
    "        \n",
    "        # create action to value dict\n",
    "        linspace_ = np.linspace(1.47293 - 0.1*(1.92-1.47293),\n",
    "                                1.92  + 0.1*(1.92-1.47293), \n",
    "                                15)\n",
    "        action_dict = dict(zip(range(15), linspace_))\n",
    "\n",
    "        rewards_1 = []\n",
    "        rewards_2 = []\n",
    "\n",
    "        for step in range(num_steps):\n",
    "            action_1 = agent_1.sample_action(state, epsilon=eps)\n",
    "            action_val_1 = action_dict[int(action_1)]\n",
    "\n",
    "            action_2 = agent_2.sample_action(state, epsilon=eps)\n",
    "            action_val_2 = action_dict[int(action_2)]\n",
    "                    \n",
    "            demand_1, demand_2 = environment_two_actors(action_val_1, action_val_2)\n",
    "\n",
    "            reward_a1 = torch.tensor((action_val_1 - 1)*demand_1, dtype=torch.float32).reshape(1,-1)\n",
    "            reward_a2 = torch.tensor((action_val_2 - 1)*demand_2, dtype=torch.float32).reshape(1,-1)\n",
    "\n",
    "            rewards_1.append((action_val_1 - 1)*demand_1)\n",
    "            rewards_2.append((action_val_2 - 1)*demand_2)\n",
    "\n",
    "            price_tensor = torch.tensor([action_val_1, action_val_2],\n",
    "                                        dtype=torch.float32).reshape(1,-1)\n",
    "            next_state = torch.cat([state[:,players:], price_tensor], 1)\n",
    "\n",
    "            agent_1.buffer.push(state, action_1.reshape(1,1), next_state, reward_a1)\n",
    "            agent_2.buffer.push(state, action_2.reshape(1,1), next_state, reward_a2)\n",
    "\n",
    "            agent_1.update_policy()\n",
    "            agent_2.update_policy()\n",
    "\n",
    "            state = next_state\n",
    "\n",
    "            eps = np.exp(-step*beta)\n",
    "\n",
    "            if step % shift_delay == 0:\n",
    "                agent_1.update_target()\n",
    "                agent_2.update_target()\n",
    "\n",
    "                agent_1.tau = tau*(1-tau_decay)\n",
    "                agent_2.tau = tau*(1-tau_decay)\n",
    "\n",
    "        print(np.mean(rewards_1[-1000:]))\n",
    "        print(np.mean(rewards_2[-1000:]))\n",
    "        all_rewards_1.append(rewards_1)\n",
    "        all_rewards_2.append(rewards_2)\n"
   ]
  },
  {
   "cell_type": "code",
   "execution_count": 389,
   "metadata": {},
   "outputs": [
    {
     "data": {
      "text/plain": [
       "<matplotlib.lines.Line2D at 0x3931850f0>"
      ]
     },
     "execution_count": 389,
     "metadata": {},
     "output_type": "execute_result"
    },
    {
     "data": {
      "image/png": "[encoded data removed]",
      "text/plain": [
       "<Figure size 1200x600 with 2 Axes>"
      ]
     },
     "metadata": {},
     "output_type": "display_data"
    }
   ],
   "source": [
    "fig, (ax1, ax2) = plt.subplots(1,2, figsize=(12,6))\n",
    "\n",
    "# ax1.plot(pd.DataFrame(all_rewards_1).mean(axis=0))\n",
    "# ax2.plot(pd.DataFrame(all_rewards_2).mean(axis=0))\n",
    "\n",
    "ax1.plot(pd.DataFrame(all_rewards_1[0]))\n",
    "ax2.plot(pd.DataFrame(all_rewards_2[0]))\n",
    "\n",
    "ax1.set_ylim(0.18, .35)\n",
    "ax2.set_ylim(0.18, .35)\n",
    "\n",
    "ax1.axhline(0.47137645*.47293, 0, num_steps)\n",
    "ax2.axhline(0.47137645*.47293, 0, num_steps)\n",
    "\n",
    "ax1.axhline(0.36486244*.92498, 0, num_steps, c='red')\n",
    "ax2.axhline(0.36486244*.92498, 0, num_steps, c='red')"
   ]
  },
  {
   "cell_type": "code",
   "execution_count": 384,
   "metadata": {},
   "outputs": [
    {
     "data": {
      "text/plain": [
       "0.23537327527781662"
      ]
     },
     "execution_count": 384,
     "metadata": {},
     "output_type": "execute_result"
    }
   ],
   "source": [
    "np.mean(rewards_1[-1000:])"
   ]
  },
  {
   "cell_type": "code",
   "execution_count": 382,
   "metadata": {},
   "outputs": [
    {
     "data": {
      "text/plain": [
       "<matplotlib.lines.Line2D at 0x3965ddfc0>"
      ]
     },
     "execution_count": 382,
     "metadata": {},
     "output_type": "execute_result"
    },
    {
     "data": {
      "image/png": "[encoded data removed]",
      "text/plain": [
       "<Figure size 1200x600 with 2 Axes>"
      ]
     },
     "metadata": {},
     "output_type": "display_data"
    }
   ],
   "source": [
    "fig, (ax1, ax2) = plt.subplots(1,2, figsize=(12,6))\n",
    "\n",
    "# ax1.plot(pd.DataFrame(all_rewards_1).mean(axis=0))\n",
    "# ax2.plot(pd.DataFrame(all_rewards_2).mean(axis=0))\n",
    "\n",
    "ax1.plot(pd.DataFrame(all_rewards_1[0]))\n",
    "ax2.plot(pd.DataFrame(all_rewards_2[0]))\n",
    "\n",
    "ax1.set_ylim(0.18, .35)\n",
    "ax2.set_ylim(0.18, .35)\n",
    "\n",
    "ax1.axhline(0.47137645*.47293, 0, num_steps)\n",
    "ax2.axhline(0.47137645*.47293, 0, num_steps)\n",
    "\n",
    "ax1.axhline(0.36486244*.92498, 0, num_steps, c='red')\n",
    "ax2.axhline(0.36486244*.92498, 0, num_steps, c='red')"
   ]
  },
  {
   "cell_type": "code",
   "execution_count": 376,
   "metadata": {},
   "outputs": [
    {
     "ename": "KeyboardInterrupt",
     "evalue": "",
     "output_type": "error",
     "traceback": [
      "\u001b[0;31m---------------------------------------------------------------------------\u001b[0m",
      "\u001b[0;31mKeyboardInterrupt\u001b[0m                         Traceback (most recent call last)",
      "Cell \u001b[0;32mIn[376], line 1\u001b[0m\n\u001b[0;32m----> 1\u001b[0m plt\u001b[39m.\u001b[39;49mplot(pd\u001b[39m.\u001b[39;49mDataFrame(all_rewards_1))\n",
      "File \u001b[0;32m~/Documents/Uni/PhD/UQAM/courses/RL/mcgill_precup/project/env_rlp/lib/python3.10/site-packages/matplotlib/pyplot.py:2812\u001b[0m, in \u001b[0;36mplot\u001b[0;34m(scalex, scaley, data, *args, **kwargs)\u001b[0m\n\u001b[1;32m   2810\u001b[0m \u001b[39m@_copy_docstring_and_deprecators\u001b[39m(Axes\u001b[39m.\u001b[39mplot)\n\u001b[1;32m   2811\u001b[0m \u001b[39mdef\u001b[39;00m \u001b[39mplot\u001b[39m(\u001b[39m*\u001b[39margs, scalex\u001b[39m=\u001b[39m\u001b[39mTrue\u001b[39;00m, scaley\u001b[39m=\u001b[39m\u001b[39mTrue\u001b[39;00m, data\u001b[39m=\u001b[39m\u001b[39mNone\u001b[39;00m, \u001b[39m*\u001b[39m\u001b[39m*\u001b[39mkwargs):\n\u001b[0;32m-> 2812\u001b[0m     \u001b[39mreturn\u001b[39;00m gca()\u001b[39m.\u001b[39;49mplot(\n\u001b[1;32m   2813\u001b[0m         \u001b[39m*\u001b[39;49margs, scalex\u001b[39m=\u001b[39;49mscalex, scaley\u001b[39m=\u001b[39;49mscaley,\n\u001b[1;32m   2814\u001b[0m         \u001b[39m*\u001b[39;49m\u001b[39m*\u001b[39;49m({\u001b[39m\"\u001b[39;49m\u001b[39mdata\u001b[39;49m\u001b[39m\"\u001b[39;49m: data} \u001b[39mif\u001b[39;49;00m data \u001b[39mis\u001b[39;49;00m \u001b[39mnot\u001b[39;49;00m \u001b[39mNone\u001b[39;49;00m \u001b[39melse\u001b[39;49;00m {}), \u001b[39m*\u001b[39;49m\u001b[39m*\u001b[39;49mkwargs)\n",
      "File \u001b[0;32m~/Documents/Uni/PhD/UQAM/courses/RL/mcgill_precup/project/env_rlp/lib/python3.10/site-packages/matplotlib/axes/_axes.py:1690\u001b[0m, in \u001b[0;36mAxes.plot\u001b[0;34m(self, scalex, scaley, data, *args, **kwargs)\u001b[0m\n\u001b[1;32m   1688\u001b[0m lines \u001b[39m=\u001b[39m [\u001b[39m*\u001b[39m\u001b[39mself\u001b[39m\u001b[39m.\u001b[39m_get_lines(\u001b[39m*\u001b[39margs, data\u001b[39m=\u001b[39mdata, \u001b[39m*\u001b[39m\u001b[39m*\u001b[39mkwargs)]\n\u001b[1;32m   1689\u001b[0m \u001b[39mfor\u001b[39;00m line \u001b[39min\u001b[39;00m lines:\n\u001b[0;32m-> 1690\u001b[0m     \u001b[39mself\u001b[39;49m\u001b[39m.\u001b[39;49madd_line(line)\n\u001b[1;32m   1691\u001b[0m \u001b[39mif\u001b[39;00m scalex:\n\u001b[1;32m   1692\u001b[0m     \u001b[39mself\u001b[39m\u001b[39m.\u001b[39m_request_autoscale_view(\u001b[39m\"\u001b[39m\u001b[39mx\u001b[39m\u001b[39m\"\u001b[39m)\n",
      "File \u001b[0;32m~/Documents/Uni/PhD/UQAM/courses/RL/mcgill_precup/project/env_rlp/lib/python3.10/site-packages/matplotlib/axes/_base.py:2302\u001b[0m, in \u001b[0;36m_AxesBase.add_line\u001b[0;34m(self, line)\u001b[0m\n\u001b[1;32m   2300\u001b[0m \u001b[39mself\u001b[39m\u001b[39m.\u001b[39m_set_artist_props(line)\n\u001b[1;32m   2301\u001b[0m \u001b[39mif\u001b[39;00m line\u001b[39m.\u001b[39mget_clip_path() \u001b[39mis\u001b[39;00m \u001b[39mNone\u001b[39;00m:\n\u001b[0;32m-> 2302\u001b[0m     line\u001b[39m.\u001b[39;49mset_clip_path(\u001b[39mself\u001b[39;49m\u001b[39m.\u001b[39;49mpatch)\n\u001b[1;32m   2304\u001b[0m \u001b[39mself\u001b[39m\u001b[39m.\u001b[39m_update_line_limits(line)\n\u001b[1;32m   2305\u001b[0m \u001b[39mif\u001b[39;00m \u001b[39mnot\u001b[39;00m line\u001b[39m.\u001b[39mget_label():\n",
      "File \u001b[0;32m~/Documents/Uni/PhD/UQAM/courses/RL/mcgill_precup/project/env_rlp/lib/python3.10/site-packages/matplotlib/artist.py:809\u001b[0m, in \u001b[0;36mArtist.set_clip_path\u001b[0;34m(self, path, transform)\u001b[0m\n\u001b[1;32m    806\u001b[0m \u001b[39mif\u001b[39;00m transform \u001b[39mis\u001b[39;00m \u001b[39mNone\u001b[39;00m:\n\u001b[1;32m    807\u001b[0m     \u001b[39mif\u001b[39;00m \u001b[39misinstance\u001b[39m(path, Rectangle):\n\u001b[1;32m    808\u001b[0m         \u001b[39mself\u001b[39m\u001b[39m.\u001b[39mclipbox \u001b[39m=\u001b[39m TransformedBbox(Bbox\u001b[39m.\u001b[39munit(),\n\u001b[0;32m--> 809\u001b[0m                                        path\u001b[39m.\u001b[39;49mget_transform())\n\u001b[1;32m    810\u001b[0m         \u001b[39mself\u001b[39m\u001b[39m.\u001b[39m_clippath \u001b[39m=\u001b[39m \u001b[39mNone\u001b[39;00m\n\u001b[1;32m    811\u001b[0m         success \u001b[39m=\u001b[39m \u001b[39mTrue\u001b[39;00m\n",
      "File \u001b[0;32m~/Documents/Uni/PhD/UQAM/courses/RL/mcgill_precup/project/env_rlp/lib/python3.10/site-packages/matplotlib/patches.py:264\u001b[0m, in \u001b[0;36mPatch.get_transform\u001b[0;34m(self)\u001b[0m\n\u001b[1;32m    262\u001b[0m \u001b[39mdef\u001b[39;00m \u001b[39mget_transform\u001b[39m(\u001b[39mself\u001b[39m):\n\u001b[1;32m    263\u001b[0m \u001b[39m    \u001b[39m\u001b[39m\"\"\"Return the `~.transforms.Transform` applied to the `Patch`.\"\"\"\u001b[39;00m\n\u001b[0;32m--> 264\u001b[0m     \u001b[39mreturn\u001b[39;00m \u001b[39mself\u001b[39;49m\u001b[39m.\u001b[39;49mget_patch_transform() \u001b[39m+\u001b[39m artist\u001b[39m.\u001b[39mArtist\u001b[39m.\u001b[39mget_transform(\u001b[39mself\u001b[39m)\n",
      "File \u001b[0;32m~/Documents/Uni/PhD/UQAM/courses/RL/mcgill_precup/project/env_rlp/lib/python3.10/site-packages/matplotlib/patches.py:747\u001b[0m, in \u001b[0;36mRectangle.get_patch_transform\u001b[0;34m(self)\u001b[0m\n\u001b[1;32m    742\u001b[0m \u001b[39mdef\u001b[39;00m \u001b[39mget_patch_transform\u001b[39m(\u001b[39mself\u001b[39m):\n\u001b[1;32m    743\u001b[0m     \u001b[39m# Note: This cannot be called until after this has been added to\u001b[39;00m\n\u001b[1;32m    744\u001b[0m     \u001b[39m# an Axes, otherwise unit conversion will fail. This makes it very\u001b[39;00m\n\u001b[1;32m    745\u001b[0m     \u001b[39m# important to call the accessor method and not directly access the\u001b[39;00m\n\u001b[1;32m    746\u001b[0m     \u001b[39m# transformation member variable.\u001b[39;00m\n\u001b[0;32m--> 747\u001b[0m     bbox \u001b[39m=\u001b[39m \u001b[39mself\u001b[39;49m\u001b[39m.\u001b[39;49mget_bbox()\n\u001b[1;32m    748\u001b[0m     \u001b[39mif\u001b[39;00m \u001b[39mself\u001b[39m\u001b[39m.\u001b[39mrotation_point \u001b[39m==\u001b[39m \u001b[39m'\u001b[39m\u001b[39mcenter\u001b[39m\u001b[39m'\u001b[39m:\n\u001b[1;32m    749\u001b[0m         width, height \u001b[39m=\u001b[39m bbox\u001b[39m.\u001b[39mx1 \u001b[39m-\u001b[39m bbox\u001b[39m.\u001b[39mx0, bbox\u001b[39m.\u001b[39my1 \u001b[39m-\u001b[39m bbox\u001b[39m.\u001b[39my0\n",
      "File \u001b[0;32m~/Documents/Uni/PhD/UQAM/courses/RL/mcgill_precup/project/env_rlp/lib/python3.10/site-packages/matplotlib/patches.py:876\u001b[0m, in \u001b[0;36mRectangle.get_bbox\u001b[0;34m(self)\u001b[0m\n\u001b[1;32m    873\u001b[0m     \u001b[39mself\u001b[39m\u001b[39m.\u001b[39m_height \u001b[39m=\u001b[39m h\n\u001b[1;32m    874\u001b[0m     \u001b[39mself\u001b[39m\u001b[39m.\u001b[39mstale \u001b[39m=\u001b[39m \u001b[39mTrue\u001b[39;00m\n\u001b[0;32m--> 876\u001b[0m \u001b[39mdef\u001b[39;00m \u001b[39mget_bbox\u001b[39m(\u001b[39mself\u001b[39m):\n\u001b[1;32m    877\u001b[0m \u001b[39m    \u001b[39m\u001b[39m\"\"\"Return the `.Bbox`.\"\"\"\u001b[39;00m\n\u001b[1;32m    878\u001b[0m     x0, y0, x1, y1 \u001b[39m=\u001b[39m \u001b[39mself\u001b[39m\u001b[39m.\u001b[39m_convert_units()\n",
      "\u001b[0;31mKeyboardInterrupt\u001b[0m: "
     ]
    },
    {
     "data": {
      "image/png": "[encoded data removed]",
      "text/plain": [
       "<Figure size 640x480 with 1 Axes>"
      ]
     },
     "metadata": {},
     "output_type": "display_data"
    }
   ],
   "source": [
    "plt.plot(pd.DataFrame(all_rewards_1))"
   ]
  },
  {
   "cell_type": "code",
   "execution_count": 359,
   "metadata": {},
   "outputs": [],
   "source": [
    "sample = agent_1.buffer.sample(64)\n",
    "batch = Transition(*zip(*sample))\n",
    "\n",
    "state_s = torch.cat(batch.state)\n",
    "reward_s = torch.cat(batch.reward)\n",
    "action_s = torch.cat(batch.action)\n",
    "next_state_s = torch.cat(batch.next_state)"
   ]
  },
  {
   "cell_type": "code",
   "execution_count": null,
   "metadata": {},
   "outputs": [],
   "source": [
    "q_values_hat = self.policy_net(state_s).gather(1, action_s)\n",
    "        \n",
    "        with torch.no_grad():\n",
    "            self.target_net.eval()\n",
    "            next_q_values, _ = self.target_net(next_state_s).max(1)\n",
    "            self.target_net.train()\n",
    "\n",
    "        target_value = self.gamma * next_q_values.squeeze() + reward_s.squeeze()"
   ]
  },
  {
   "cell_type": "code",
   "execution_count": 361,
   "metadata": {},
   "outputs": [],
   "source": [
    "qhat = agent_1.policy_net(state_s).gather(1, action_s)\n",
    "with torch.no_grad():\n",
    "    agent_1.target_net.eval()\n",
    "    next_q_values, _ = agent_1.target_net(next_state_s).max(1)\n",
    "    agent_1.target_net.train()"
   ]
  },
  {
   "cell_type": "code",
   "execution_count": 366,
   "metadata": {},
   "outputs": [
    {
     "data": {
      "text/plain": [
       "tensor([3.6469, 3.6369, 3.5992, 3.6818, 3.6447, 3.6549, 3.6028, 3.6412, 3.6468,\n",
       "        3.6558, 3.6638, 3.6039, 3.6468, 3.6568, 3.6033, 3.6126, 3.6184, 3.6468,\n",
       "        3.6414, 3.6217, 3.6044, 3.6468, 3.6568, 3.6564, 3.6626, 3.6478, 3.6372,\n",
       "        3.6171, 3.5895, 3.6472, 3.6117, 3.6389, 3.6468, 3.6240, 3.6163, 3.6861,\n",
       "        3.6468, 3.6447, 3.6197, 3.6474, 3.6033, 3.6145, 3.6354, 3.6468, 3.6359,\n",
       "        3.5891, 3.6328, 3.6885, 3.6341, 3.6469, 3.6502, 3.6416, 3.6634, 3.6237,\n",
       "        3.6752, 3.6460, 3.6495, 3.6373, 3.6128, 3.6486, 3.6642, 3.6130, 3.6465,\n",
       "        3.6638], grad_fn=<SqueezeBackward0>)"
      ]
     },
     "execution_count": 366,
     "metadata": {},
     "output_type": "execute_result"
    }
   ],
   "source": [
    "qhat.squeeze()"
   ]
  },
  {
   "cell_type": "code",
   "execution_count": 362,
   "metadata": {},
   "outputs": [],
   "source": [
    "target_value = 0.95 * next_q_values.squeeze() + reward_s.squeeze()"
   ]
  },
  {
   "cell_type": "code",
   "execution_count": 364,
   "metadata": {},
   "outputs": [
    {
     "data": {
      "text/plain": [
       "torch.Size([64])"
      ]
     },
     "execution_count": 364,
     "metadata": {},
     "output_type": "execute_result"
    }
   ],
   "source": [
    "target_value.shape"
   ]
  },
  {
   "cell_type": "code",
   "execution_count": 353,
   "metadata": {},
   "outputs": [
    {
     "data": {
      "text/plain": [
       "tensor([[ 1.1024,  0.5910,  1.5797, -0.1327,  2.5480,  3.4476,  1.0845, -0.2983,\n",
       "         -2.0124, -0.1398,  2.6249,  1.3908, -0.5172,  1.2136,  1.7763],\n",
       "        [ 0.9654,  0.4125,  1.5071, -0.1133,  2.8315,  3.6536,  0.8718, -0.2332,\n",
       "         -2.1611, -0.4334,  2.6949,  1.4415, -0.6733,  1.0546,  1.9853],\n",
       "        [ 1.0461,  0.5776,  1.5871, -0.0735,  2.6515,  3.5170,  1.0234, -0.2181,\n",
       "         -1.9753, -0.2837,  2.6417,  1.4227, -0.5745,  1.1595,  1.8194],\n",
       "        [ 0.9571,  0.3916,  1.4880, -0.0962,  2.8291,  3.6332,  0.8428, -0.2164,\n",
       "         -2.1325, -0.4308,  2.6806,  1.4376, -0.6628,  1.0321,  1.9980],\n",
       "        [ 0.9886,  0.5171,  1.5300, -0.0971,  2.7215,  3.5419,  0.9732, -0.2029,\n",
       "         -2.0480, -0.3512,  2.6240,  1.4244, -0.5956,  1.1227,  1.8809],\n",
       "        [ 1.0153,  0.6321,  1.5992, -0.1341,  2.6765,  3.5350,  1.1035, -0.2276,\n",
       "         -2.0606, -0.3231,  2.6261,  1.4306, -0.5789,  1.2227,  1.7816],\n",
       "        [ 0.9981,  0.5297,  1.5407, -0.0946,  2.7095,  3.5379,  0.9846, -0.2060,\n",
       "         -2.0373, -0.3401,  2.6268,  1.4244, -0.5919,  1.1313,  1.8686],\n",
       "        [ 0.9910,  0.6194,  1.5996, -0.1859,  2.7449,  3.6106,  1.1133, -0.2567,\n",
       "         -2.1823, -0.3858,  2.6567,  1.4434, -0.6260,  1.2342,  1.8102],\n",
       "        [ 1.0443,  0.6153,  1.6222, -0.1419,  2.6963,  3.5987,  1.0926, -0.2666,\n",
       "         -2.1074, -0.3274,  2.6819,  1.4370, -0.6209,  1.2146,  1.8089],\n",
       "        [ 1.0002,  0.4957,  1.5553, -0.1663,  2.8058,  3.6900,  0.9881, -0.2802,\n",
       "         -2.2334, -0.4142,  2.7123,  1.4412, -0.6908,  1.1348,  1.9377]],\n",
       "       grad_fn=<AddmmBackward0>)"
      ]
     },
     "execution_count": 353,
     "metadata": {},
     "output_type": "execute_result"
    }
   ],
   "source": [
    "agent_1.policy_net(test_tensor).gather()"
   ]
  },
  {
   "cell_type": "code",
   "execution_count": 329,
   "metadata": {},
   "outputs": [
    {
     "data": {
      "text/plain": [
       "<__main__.DQNAgent at 0x1326069b0>"
      ]
     },
     "execution_count": 329,
     "metadata": {},
     "output_type": "execute_result"
    }
   ],
   "source": [
    "gamma=0.95\n",
    "lr=0.1 \n",
    "weight_decay=1e-5\n",
    "tau=0.05"
   ]
  },
  {
   "cell_type": "code",
   "execution_count": null,
   "metadata": {},
   "outputs": [],
   "source": []
  },
  {
   "cell_type": "code",
   "execution_count": 302,
   "metadata": {},
   "outputs": [
    {
     "ename": "RuntimeError",
     "evalue": "zero-dimensional tensor (at position 0) cannot be concatenated",
     "output_type": "error",
     "traceback": [
      "\u001b[0;31m---------------------------------------------------------------------------\u001b[0m",
      "\u001b[0;31mRuntimeError\u001b[0m                              Traceback (most recent call last)",
      "Cell \u001b[0;32mIn[302], line 1\u001b[0m\n\u001b[0;32m----> 1\u001b[0m torch\u001b[39m.\u001b[39;49mcat((torch\u001b[39m.\u001b[39;49mtensor(random\u001b[39m.\u001b[39;49mchoices(\u001b[39mrange\u001b[39;49m(\u001b[39m15\u001b[39;49m), k\u001b[39m=\u001b[39;49m\u001b[39m1\u001b[39;49m)[\u001b[39m0\u001b[39;49m]), torch\u001b[39m.\u001b[39;49mtensor(random\u001b[39m.\u001b[39;49mchoices(\u001b[39mrange\u001b[39;49m(\u001b[39m15\u001b[39;49m), k\u001b[39m=\u001b[39;49m\u001b[39m1\u001b[39;49m)[\u001b[39m0\u001b[39;49m])))\n",
      "\u001b[0;31mRuntimeError\u001b[0m: zero-dimensional tensor (at position 0) cannot be concatenated"
     ]
    }
   ],
   "source": [
    "torch.cat((torch.tensor(random.choices(range(15), k=1)[0]), torch.tensor(random.choices(range(15), k=1)[0])))"
   ]
  },
  {
   "cell_type": "code",
   "execution_count": 292,
   "metadata": {},
   "outputs": [
    {
     "data": {
      "text/plain": [
       "tensor([10])"
      ]
     },
     "execution_count": 292,
     "metadata": {},
     "output_type": "execute_result"
    }
   ],
   "source": [
    "torch.tensor(random.choices(range(15), k=1))"
   ]
  },
  {
   "cell_type": "code",
   "execution_count": 303,
   "metadata": {},
   "outputs": [],
   "source": [
    "test_net = BaseMLP([5,5,5],\n",
    "                   input_size=2,\n",
    "                   output_size=15, \n",
    "                   dropout=0)\n",
    "test_tensor = torch.rand(10,2)\n"
   ]
  },
  {
   "cell_type": "code",
   "execution_count": 325,
   "metadata": {},
   "outputs": [
    {
     "data": {
      "text/plain": [
       "tensor([12, 12, 12, 12, 12, 12, 12, 12, 12, 12])"
      ]
     },
     "execution_count": 325,
     "metadata": {},
     "output_type": "execute_result"
    }
   ],
   "source": [
    "test_net(test_tensor).argmax(1)"
   ]
  },
  {
   "cell_type": "code",
   "execution_count": null,
   "metadata": {},
   "outputs": [],
   "source": []
  },
  {
   "cell_type": "code",
   "execution_count": 309,
   "metadata": {},
   "outputs": [],
   "source": [
    "che, _ = test_net(test_tensor).max(1)"
   ]
  },
  {
   "cell_type": "code",
   "execution_count": 311,
   "metadata": {},
   "outputs": [
    {
     "data": {
      "text/plain": [
       "tensor([0.5186, 0.5430, 0.5154, 0.5360, 0.5201, 0.5197, 0.5183, 0.5370, 0.5233,\n",
       "        0.5600], grad_fn=<MulBackward0>)"
      ]
     },
     "execution_count": 311,
     "metadata": {},
     "output_type": "execute_result"
    }
   ],
   "source": [
    "che*0.95 + "
   ]
  },
  {
   "cell_type": "code",
   "execution_count": 262,
   "metadata": {},
   "outputs": [
    {
     "data": {
      "text/plain": [
       "2"
      ]
     },
     "execution_count": 262,
     "metadata": {},
     "output_type": "execute_result"
    }
   ],
   "source": [
    "int(test_net(test_tensor).argmax().detach().numpy())"
   ]
  },
  {
   "cell_type": "code",
   "execution_count": null,
   "metadata": {},
   "outputs": [],
   "source": []
  },
  {
   "cell_type": "code",
   "execution_count": 369,
   "metadata": {},
   "outputs": [
    {
     "data": {
      "text/plain": [
       "1e-05"
      ]
     },
     "execution_count": 369,
     "metadata": {},
     "output_type": "execute_result"
    }
   ],
   "source": [
    "0.00001"
   ]
  },
  {
   "cell_type": "code",
   "execution_count": 148,
   "metadata": {},
   "outputs": [
    {
     "name": "stdout",
     "output_type": "stream",
     "text": [
      "Starting experiment No.: 0\n",
      "0.2985990532176719\n",
      "0.27160549183858596\n",
      "Starting experiment No.: 1\n",
      "0.2557122203672546\n",
      "0.23802671753428437\n",
      "Starting experiment No.: 2\n",
      "0.31282157432226293\n",
      "0.3128986806338316\n",
      "Starting experiment No.: 3\n"
     ]
    },
    {
     "ename": "KeyboardInterrupt",
     "evalue": "",
     "output_type": "error",
     "traceback": [
      "\u001b[0;31m---------------------------------------------------------------------------\u001b[0m",
      "\u001b[0;31mKeyboardInterrupt\u001b[0m                         Traceback (most recent call last)",
      "Cell \u001b[0;32mIn[148], line 107\u001b[0m\n\u001b[1;32m    105\u001b[0m             \u001b[39m# Train policy model \u001b[39;00m\n\u001b[1;32m    106\u001b[0m             train_model(replay_buffer_1, policy_net_a1, target_net_a1, optimizer_a1, batch_size\u001b[39m=\u001b[39mbatch_size)\n\u001b[0;32m--> 107\u001b[0m             train_model(replay_buffer_2, policy_net_a2, target_net_a2, optimizer_a2, batch_size\u001b[39m=\u001b[39;49mbatch_size)\n\u001b[1;32m    109\u001b[0m             state \u001b[39m=\u001b[39m next_state\n\u001b[1;32m    111\u001b[0m \u001b[39m#            epsilon_init = epsilon_init*(1-epsilon_decay)\u001b[39;00m\n",
      "Cell \u001b[0;32mIn[50], line 120\u001b[0m, in \u001b[0;36mtrain_model\u001b[0;34m(replay_buffer, model, target_model, optimizer, batch_size, gamma)\u001b[0m\n\u001b[1;32m    118\u001b[0m \u001b[39m# In-place gradient clipping\u001b[39;00m\n\u001b[1;32m    119\u001b[0m torch\u001b[39m.\u001b[39mnn\u001b[39m.\u001b[39mutils\u001b[39m.\u001b[39mclip_grad_value_(model\u001b[39m.\u001b[39mparameters(), \u001b[39m100\u001b[39m)\n\u001b[0;32m--> 120\u001b[0m optimizer\u001b[39m.\u001b[39;49mstep()\n",
      "File \u001b[0;32m~/Documents/Uni/PhD/UQAM/courses/RL/mcgill_precup/project/env_rlp/lib/python3.10/site-packages/torch/optim/optimizer.py:280\u001b[0m, in \u001b[0;36mOptimizer.profile_hook_step.<locals>.wrapper\u001b[0;34m(*args, **kwargs)\u001b[0m\n\u001b[1;32m    276\u001b[0m         \u001b[39melse\u001b[39;00m:\n\u001b[1;32m    277\u001b[0m             \u001b[39mraise\u001b[39;00m \u001b[39mRuntimeError\u001b[39;00m(\u001b[39mf\u001b[39m\u001b[39m\"\u001b[39m\u001b[39m{\u001b[39;00mfunc\u001b[39m}\u001b[39;00m\u001b[39m must return None or a tuple of (new_args, new_kwargs),\u001b[39m\u001b[39m\"\u001b[39m\n\u001b[1;32m    278\u001b[0m                                \u001b[39mf\u001b[39m\u001b[39m\"\u001b[39m\u001b[39mbut got \u001b[39m\u001b[39m{\u001b[39;00mresult\u001b[39m}\u001b[39;00m\u001b[39m.\u001b[39m\u001b[39m\"\u001b[39m)\n\u001b[0;32m--> 280\u001b[0m out \u001b[39m=\u001b[39m func(\u001b[39m*\u001b[39;49margs, \u001b[39m*\u001b[39;49m\u001b[39m*\u001b[39;49mkwargs)\n\u001b[1;32m    281\u001b[0m \u001b[39mself\u001b[39m\u001b[39m.\u001b[39m_optimizer_step_code()\n\u001b[1;32m    283\u001b[0m \u001b[39m# call optimizer step post hooks\u001b[39;00m\n",
      "File \u001b[0;32m~/Documents/Uni/PhD/UQAM/courses/RL/mcgill_precup/project/env_rlp/lib/python3.10/site-packages/torch/optim/optimizer.py:33\u001b[0m, in \u001b[0;36m_use_grad_for_differentiable.<locals>._use_grad\u001b[0;34m(self, *args, **kwargs)\u001b[0m\n\u001b[1;32m     31\u001b[0m \u001b[39mtry\u001b[39;00m:\n\u001b[1;32m     32\u001b[0m     torch\u001b[39m.\u001b[39mset_grad_enabled(\u001b[39mself\u001b[39m\u001b[39m.\u001b[39mdefaults[\u001b[39m'\u001b[39m\u001b[39mdifferentiable\u001b[39m\u001b[39m'\u001b[39m])\n\u001b[0;32m---> 33\u001b[0m     ret \u001b[39m=\u001b[39m func(\u001b[39mself\u001b[39;49m, \u001b[39m*\u001b[39;49margs, \u001b[39m*\u001b[39;49m\u001b[39m*\u001b[39;49mkwargs)\n\u001b[1;32m     34\u001b[0m \u001b[39mfinally\u001b[39;00m:\n\u001b[1;32m     35\u001b[0m     torch\u001b[39m.\u001b[39mset_grad_enabled(prev_grad)\n",
      "File \u001b[0;32m~/Documents/Uni/PhD/UQAM/courses/RL/mcgill_precup/project/env_rlp/lib/python3.10/site-packages/torch/optim/adamw.py:171\u001b[0m, in \u001b[0;36mAdamW.step\u001b[0;34m(self, closure)\u001b[0m\n\u001b[1;32m    158\u001b[0m     beta1, beta2 \u001b[39m=\u001b[39m group[\u001b[39m\"\u001b[39m\u001b[39mbetas\u001b[39m\u001b[39m\"\u001b[39m]\n\u001b[1;32m    160\u001b[0m     \u001b[39mself\u001b[39m\u001b[39m.\u001b[39m_init_group(\n\u001b[1;32m    161\u001b[0m         group,\n\u001b[1;32m    162\u001b[0m         params_with_grad,\n\u001b[0;32m   (...)\u001b[0m\n\u001b[1;32m    168\u001b[0m         state_steps,\n\u001b[1;32m    169\u001b[0m     )\n\u001b[0;32m--> 171\u001b[0m     adamw(\n\u001b[1;32m    172\u001b[0m         params_with_grad,\n\u001b[1;32m    173\u001b[0m         grads,\n\u001b[1;32m    174\u001b[0m         exp_avgs,\n\u001b[1;32m    175\u001b[0m         exp_avg_sqs,\n\u001b[1;32m    176\u001b[0m         max_exp_avg_sqs,\n\u001b[1;32m    177\u001b[0m         state_steps,\n\u001b[1;32m    178\u001b[0m         amsgrad\u001b[39m=\u001b[39;49mamsgrad,\n\u001b[1;32m    179\u001b[0m         beta1\u001b[39m=\u001b[39;49mbeta1,\n\u001b[1;32m    180\u001b[0m         beta2\u001b[39m=\u001b[39;49mbeta2,\n\u001b[1;32m    181\u001b[0m         lr\u001b[39m=\u001b[39;49mgroup[\u001b[39m\"\u001b[39;49m\u001b[39mlr\u001b[39;49m\u001b[39m\"\u001b[39;49m],\n\u001b[1;32m    182\u001b[0m         weight_decay\u001b[39m=\u001b[39;49mgroup[\u001b[39m\"\u001b[39;49m\u001b[39mweight_decay\u001b[39;49m\u001b[39m\"\u001b[39;49m],\n\u001b[1;32m    183\u001b[0m         eps\u001b[39m=\u001b[39;49mgroup[\u001b[39m\"\u001b[39;49m\u001b[39meps\u001b[39;49m\u001b[39m\"\u001b[39;49m],\n\u001b[1;32m    184\u001b[0m         maximize\u001b[39m=\u001b[39;49mgroup[\u001b[39m\"\u001b[39;49m\u001b[39mmaximize\u001b[39;49m\u001b[39m\"\u001b[39;49m],\n\u001b[1;32m    185\u001b[0m         foreach\u001b[39m=\u001b[39;49mgroup[\u001b[39m\"\u001b[39;49m\u001b[39mforeach\u001b[39;49m\u001b[39m\"\u001b[39;49m],\n\u001b[1;32m    186\u001b[0m         capturable\u001b[39m=\u001b[39;49mgroup[\u001b[39m\"\u001b[39;49m\u001b[39mcapturable\u001b[39;49m\u001b[39m\"\u001b[39;49m],\n\u001b[1;32m    187\u001b[0m         differentiable\u001b[39m=\u001b[39;49mgroup[\u001b[39m\"\u001b[39;49m\u001b[39mdifferentiable\u001b[39;49m\u001b[39m\"\u001b[39;49m],\n\u001b[1;32m    188\u001b[0m         fused\u001b[39m=\u001b[39;49mgroup[\u001b[39m\"\u001b[39;49m\u001b[39mfused\u001b[39;49m\u001b[39m\"\u001b[39;49m],\n\u001b[1;32m    189\u001b[0m         grad_scale\u001b[39m=\u001b[39;49m\u001b[39mgetattr\u001b[39;49m(\u001b[39mself\u001b[39;49m, \u001b[39m\"\u001b[39;49m\u001b[39mgrad_scale\u001b[39;49m\u001b[39m\"\u001b[39;49m, \u001b[39mNone\u001b[39;49;00m),\n\u001b[1;32m    190\u001b[0m         found_inf\u001b[39m=\u001b[39;49m\u001b[39mgetattr\u001b[39;49m(\u001b[39mself\u001b[39;49m, \u001b[39m\"\u001b[39;49m\u001b[39mfound_inf\u001b[39;49m\u001b[39m\"\u001b[39;49m, \u001b[39mNone\u001b[39;49;00m),\n\u001b[1;32m    191\u001b[0m     )\n\u001b[1;32m    193\u001b[0m \u001b[39mreturn\u001b[39;00m loss\n",
      "File \u001b[0;32m~/Documents/Uni/PhD/UQAM/courses/RL/mcgill_precup/project/env_rlp/lib/python3.10/site-packages/torch/optim/adamw.py:321\u001b[0m, in \u001b[0;36madamw\u001b[0;34m(params, grads, exp_avgs, exp_avg_sqs, max_exp_avg_sqs, state_steps, foreach, capturable, differentiable, fused, grad_scale, found_inf, amsgrad, beta1, beta2, lr, weight_decay, eps, maximize)\u001b[0m\n\u001b[1;32m    318\u001b[0m \u001b[39melse\u001b[39;00m:\n\u001b[1;32m    319\u001b[0m     func \u001b[39m=\u001b[39m _single_tensor_adamw\n\u001b[0;32m--> 321\u001b[0m func(\n\u001b[1;32m    322\u001b[0m     params,\n\u001b[1;32m    323\u001b[0m     grads,\n\u001b[1;32m    324\u001b[0m     exp_avgs,\n\u001b[1;32m    325\u001b[0m     exp_avg_sqs,\n\u001b[1;32m    326\u001b[0m     max_exp_avg_sqs,\n\u001b[1;32m    327\u001b[0m     state_steps,\n\u001b[1;32m    328\u001b[0m     amsgrad\u001b[39m=\u001b[39;49mamsgrad,\n\u001b[1;32m    329\u001b[0m     beta1\u001b[39m=\u001b[39;49mbeta1,\n\u001b[1;32m    330\u001b[0m     beta2\u001b[39m=\u001b[39;49mbeta2,\n\u001b[1;32m    331\u001b[0m     lr\u001b[39m=\u001b[39;49mlr,\n\u001b[1;32m    332\u001b[0m     weight_decay\u001b[39m=\u001b[39;49mweight_decay,\n\u001b[1;32m    333\u001b[0m     eps\u001b[39m=\u001b[39;49meps,\n\u001b[1;32m    334\u001b[0m     maximize\u001b[39m=\u001b[39;49mmaximize,\n\u001b[1;32m    335\u001b[0m     capturable\u001b[39m=\u001b[39;49mcapturable,\n\u001b[1;32m    336\u001b[0m     differentiable\u001b[39m=\u001b[39;49mdifferentiable,\n\u001b[1;32m    337\u001b[0m     grad_scale\u001b[39m=\u001b[39;49mgrad_scale,\n\u001b[1;32m    338\u001b[0m     found_inf\u001b[39m=\u001b[39;49mfound_inf,\n\u001b[1;32m    339\u001b[0m )\n",
      "File \u001b[0;32m~/Documents/Uni/PhD/UQAM/courses/RL/mcgill_precup/project/env_rlp/lib/python3.10/site-packages/torch/optim/adamw.py:438\u001b[0m, in \u001b[0;36m_single_tensor_adamw\u001b[0;34m(params, grads, exp_avgs, exp_avg_sqs, max_exp_avg_sqs, state_steps, grad_scale, found_inf, amsgrad, beta1, beta2, lr, weight_decay, eps, maximize, capturable, differentiable)\u001b[0m\n\u001b[1;32m    436\u001b[0m     torch\u001b[39m.\u001b[39mmaximum(max_exp_avg_sqs[i], exp_avg_sq, out\u001b[39m=\u001b[39mmax_exp_avg_sqs[i])\n\u001b[1;32m    437\u001b[0m     \u001b[39m# Use the max. for normalizing running avg. of gradient\u001b[39;00m\n\u001b[0;32m--> 438\u001b[0m     denom \u001b[39m=\u001b[39m (max_exp_avg_sqs[i]\u001b[39m.\u001b[39;49msqrt() \u001b[39m/\u001b[39;49m bias_correction2_sqrt)\u001b[39m.\u001b[39;49madd_(eps)\n\u001b[1;32m    439\u001b[0m \u001b[39melse\u001b[39;00m:\n\u001b[1;32m    440\u001b[0m     denom \u001b[39m=\u001b[39m (exp_avg_sq\u001b[39m.\u001b[39msqrt() \u001b[39m/\u001b[39m bias_correction2_sqrt)\u001b[39m.\u001b[39madd_(eps)\n",
      "\u001b[0;31mKeyboardInterrupt\u001b[0m: "
     ]
    }
   ],
   "source": [
    "## Simulation \n",
    "# Parameters\n",
    "\n",
    "# Low batch size is better\n",
    "# Low state memory is better\n",
    "\n",
    "\n",
    "for  architec_ in [7]:\n",
    "    players=2\n",
    "    state_memory=1\n",
    "    n_actions = 15\n",
    "    gamma = 0.99\n",
    "\n",
    "    batch_size=64\n",
    "    total_iterations = 500000\n",
    "    shift_delay =1\n",
    "    \n",
    "    #architec_ = 5\n",
    "\n",
    "    beta_ = 1e-5#3e-5\n",
    "    total_experiments = 10\n",
    "\n",
    "    # Initialize enviornment, state and action dict\n",
    "    envir_two_agents = SimpleEconEnvironment(mu=0.25)\n",
    "\n",
    "    linspace_ = np.linspace(1.47293 - 0.1*(1.92-1.47293),\n",
    "                        1.92  + 0.1*(1.92-1.47293), \n",
    "                        15)\n",
    "    action_dict = dict(zip(range(15), linspace_))\n",
    "\n",
    "    # To catch results\n",
    "    all_exper_rewards_1 = []\n",
    "    all_exper_rewards_2 = []\n",
    "\n",
    "    for experiment_ in range(total_experiments):\n",
    "        print(f\"Starting experiment No.: {experiment_}\")\n",
    "\n",
    "        epsilon_init = 0.9\n",
    "\n",
    "        tau = 0.025\n",
    "        tau_decay=0\n",
    "        learning_rate=0.025\n",
    "        lr_decay = 0.0001\n",
    "\n",
    "        replay_buffer_1 = ReplayMemory(1000)\n",
    "        replay_buffer_2 = ReplayMemory(1000)\n",
    "\n",
    "        # Initialize nets\n",
    "        # Agent 1\n",
    "        policy_net_a1 = BaseMLP([architec_,architec_,architec_],\n",
    "                                input_size=state_memory*players,\n",
    "                                output_size=n_actions)\n",
    "        policy_net_a1.apply(init_weights)\n",
    "        \n",
    "        target_net_a1 = BaseMLP([architec_,architec_,architec_], input_size=state_memory*players, output_size=n_actions)\n",
    "        target_net_a1.load_state_dict(policy_net_a1.state_dict())\n",
    "        optimizer_a1 = optim.AdamW(policy_net_a1.parameters(), lr=learning_rate, amsgrad=True, weight_decay=0.00001)\n",
    "\n",
    "        # Agent 2\n",
    "        policy_net_a2 = BaseMLP([architec_,architec_,architec_], input_size=state_memory*players, output_size=n_actions)\n",
    "        policy_net_a2.apply(init_weights)\n",
    "\n",
    "        target_net_a2 = BaseMLP([architec_,architec_, architec_], input_size=state_memory*players, output_size=n_actions)\n",
    "        target_net_a2.load_state_dict(policy_net_a2.state_dict())\n",
    "        optimizer_a2 = optim.AdamW(policy_net_a2.parameters(), lr=learning_rate, amsgrad=True, weight_decay=0.00001)\n",
    "\n",
    "        # Initialize a state\n",
    "        np.random.seed(experiment_)\n",
    "        state = torch.tensor(np.random.uniform(low=1.47,\n",
    "                                            high=2,\n",
    "                                            size=(players*state_memory,)),\n",
    "                            dtype=torch.float32).reshape(1,players*state_memory)\n",
    "\n",
    "        rewards_a1 = []\n",
    "        rewards_a2 = []\n",
    "\n",
    "        for train_iter_ in range(total_iterations):\n",
    "\n",
    "            if train_iter_ > batch_size:\n",
    "\n",
    "                action_a1 = select_action_training(policy_net_a1, state, epsilon_init)\n",
    "                action_value_a1 = int(action_a1.detach().numpy()[0])\n",
    "                price_a1 = action_dict[action_value_a1]\n",
    "\n",
    "                action_a2 = select_action_training(policy_net_a2, state, epsilon_init)\n",
    "                action_value_a2 = int(action_a2.detach().numpy()[0])\n",
    "                price_a2 = action_dict[action_value_a2]\n",
    "\n",
    "                price_tensor = torch.tensor([price_a1, price_a2], \n",
    "                                            dtype=torch.float32).reshape(1,-1)\n",
    "                \n",
    "                demand_1, demand_2 = envir_two_agents(price_a1, price_a2)\n",
    "\n",
    "                reward_a1 = torch.tensor((price_a1 - 1)*demand_1).reshape(1,-1)\n",
    "                reward_a2 = torch.tensor((price_a2 - 1)*demand_2).reshape(1,-1)\n",
    "\n",
    "                rewards_a1.append((price_a1 - 1)*demand_1)\n",
    "                rewards_a2.append((price_a2 - 1)*demand_2)\n",
    "\n",
    "                next_state = torch.cat([state[:,players:], price_tensor], 1)\n",
    "\n",
    "                replay_buffer_1.push(state, action_a1.reshape(1,1), next_state, reward_a1)\n",
    "                replay_buffer_2.push(state, action_a2.reshape(1,1), next_state, reward_a2)\n",
    "\n",
    "                # Train policy model \n",
    "                train_model(replay_buffer_1, policy_net_a1, target_net_a1, optimizer_a1, batch_size=batch_size)\n",
    "                train_model(replay_buffer_2, policy_net_a2, target_net_a2, optimizer_a2, batch_size=batch_size)\n",
    "\n",
    "                state = next_state\n",
    "\n",
    "    #            epsilon_init = epsilon_init*(1-epsilon_decay)\n",
    "                epsilon_init = np.exp(-(train_iter_-batch_size)*beta_)\n",
    "\n",
    "\n",
    "                if train_iter_ % shift_delay == 0:\n",
    "                    soft_update_nets(policy_net_a1, target_net_a1, tau)\n",
    "                    soft_update_nets(policy_net_a2, target_net_a2, tau)\n",
    "\n",
    "                    tau = tau*(1-tau_decay)\n",
    "            \n",
    "            else:\n",
    "                action_a1 = select_action_training(policy_net_a1, state, epsilon_init)\n",
    "                action_value_a1 = int(action_a1.detach().numpy()[0])\n",
    "                price_a1 = action_dict[action_value_a1]\n",
    "\n",
    "                action_a2 = select_action_training(policy_net_a2, state, epsilon_init)\n",
    "                action_value_a2 = int(action_a2.detach().numpy()[0])\n",
    "                price_a2 = action_dict[action_value_a2]\n",
    "\n",
    "                price_tensor = torch.tensor([price_a1, price_a2], \n",
    "                                            dtype=torch.float32).reshape(1,-1)\n",
    "                \n",
    "                demand_1, demand_2 = envir_two_agents(price_a1, price_a2)\n",
    "\n",
    "                reward_a1 = torch.tensor((price_a1 - 1)*demand_1).reshape(1,-1)\n",
    "                reward_a2 = torch.tensor((price_a2 - 1)*demand_2).reshape(1,-1)\n",
    "\n",
    "                rewards_a1.append((price_a1 - 1)*demand_1)\n",
    "                rewards_a2.append((price_a2 - 1)*demand_2)\n",
    "\n",
    "                next_state = torch.cat([state[:,players:], price_tensor], 1)\n",
    "\n",
    "                replay_buffer_1.push(state, action_a1.reshape(1,1), next_state, reward_a1)\n",
    "                replay_buffer_2.push(state, action_a2.reshape(1,1), next_state, reward_a2)\n",
    "\n",
    "                state = next_state\n",
    "\n",
    "        all_exper_rewards_1.append(rewards_a1)\n",
    "        all_exper_rewards_2.append(rewards_a2)\n",
    "\n",
    "        print(np.mean(rewards_a1[-1000:]))\n",
    "        print(np.mean(rewards_a2[-1000:]))\n",
    "\n",
    "\n",
    "\n",
    "    print(batch_size)\n",
    "    monopoly_ = 0.36486244*.92498\n",
    "    bertrand_ = 0.47137645*.47293\n",
    "\n",
    "    p1_mean = pd.DataFrame(all_exper_rewards_1).mean(axis=0).tail(1000).mean()\n",
    "    p2_mean = pd.DataFrame(all_exper_rewards_2).mean(axis=0).tail(1000).mean()\n",
    "\n",
    "    mean_prof = np.mean([p1_mean, p2_mean])\n",
    "    print((mean_prof- bertrand_)/(monopoly_ - bertrand_))"
   ]
  },
  {
   "cell_type": "code",
   "execution_count": 133,
   "metadata": {},
   "outputs": [],
   "source": [
    "# df_ = pd.DataFrame({'results_1': pd.DataFrame(all_exper_rewards_1).mean(axis=0)[:20000], \n",
    "#               'results_2': pd.DataFrame(all_exper_rewards_2).mean(axis=0)[:20000]})"
   ]
  },
  {
   "cell_type": "code",
   "execution_count": 135,
   "metadata": {},
   "outputs": [],
   "source": [
    "df_.to_csv('~/Downloads/check_dqn_1.csv', index=False)"
   ]
  },
  {
   "cell_type": "code",
   "execution_count": 147,
   "metadata": {},
   "outputs": [],
   "source": [
    "# mean_1 = (pd.DataFrame(all_exper_rewards_1).mean(axis=0))\n",
    "# mean_2 = (pd.DataFrame(all_exper_rewards_2).mean(axis=0))\n",
    "\n",
    "# std1 = (pd.DataFrame(all_exper_rewards_1).std(axis=0))\n",
    "# std2 = (pd.DataFrame(all_exper_rewards_2).std(axis=0))\n",
    "\n",
    "# pd.DataFrame({'mean_1': mean_1, \n",
    "#              'mean_2': mean_2, \n",
    "#              'std_1': std1, \n",
    "#              'std_2': std2}).to_csv('~/Downloads/all_exper_new_1.csv', index=False)"
   ]
  },
  {
   "cell_type": "code",
   "execution_count": 145,
   "metadata": {},
   "outputs": [
    {
     "name": "stdout",
     "output_type": "stream",
     "text": [
      "gamma: 0.99, \n",
      "        learning: 0.025,\n",
      "        tau: 0.025, \n",
      "        beta: 3e-05\n"
     ]
    },
    {
     "data": {
      "image/png": "[encoded data removed]",
      "text/plain": [
       "<Figure size 1200x600 with 2 Axes>"
      ]
     },
     "metadata": {},
     "output_type": "display_data"
    }
   ],
   "source": [
    "fig, (ax1, ax2) = plt.subplots(1,2, figsize=(12,6))\n",
    "\n",
    "ax1.plot(pd.DataFrame(all_exper_rewards_1).mean(axis=0))\n",
    "ax2.plot(pd.DataFrame(all_exper_rewards_2).mean(axis=0))\n",
    "\n",
    "ax1.set_ylim(0.18, .35)\n",
    "ax2.set_ylim(0.18, .35)\n",
    "\n",
    "ax1.axhline(0.47137645*.47293, 0, total_iterations)\n",
    "ax2.axhline(0.47137645*.47293, 0, total_iterations)\n",
    "\n",
    "ax1.axhline(0.36486244*.92498, 0, total_iterations, c='red')\n",
    "ax2.axhline(0.36486244*.92498, 0, total_iterations, c='red')\n",
    "\n",
    "print(f\"\"\"gamma: {gamma}, \n",
    "        learning: {learning_rate},\n",
    "        tau: {tau}, \n",
    "        beta: {beta_}\"\"\")"
   ]
  },
  {
   "cell_type": "code",
   "execution_count": 149,
   "metadata": {},
   "outputs": [
    {
     "name": "stdout",
     "output_type": "stream",
     "text": [
      "gamma: 0.99, \n",
      "        learning: 0.025,\n",
      "        tau: 0.025, \n",
      "        beta: 1e-05\n"
     ]
    },
    {
     "data": {
      "image/png": "[encoded data removed]",
      "text/plain": [
       "<Figure size 1200x600 with 2 Axes>"
      ]
     },
     "metadata": {},
     "output_type": "display_data"
    }
   ],
   "source": [
    "fig, (ax1, ax2) = plt.subplots(1,2, figsize=(12,6))\n",
    "\n",
    "ax1.plot(pd.DataFrame(all_exper_rewards_1).mean(axis=0))\n",
    "ax2.plot(pd.DataFrame(all_exper_rewards_2).mean(axis=0))\n",
    "\n",
    "ax1.set_ylim(0.18, .35)\n",
    "ax2.set_ylim(0.18, .35)\n",
    "\n",
    "ax1.axhline(0.47137645*.47293, 0, total_iterations)\n",
    "ax2.axhline(0.47137645*.47293, 0, total_iterations)\n",
    "\n",
    "ax1.axhline(0.36486244*.92498, 0, total_iterations, c='red')\n",
    "ax2.axhline(0.36486244*.92498, 0, total_iterations, c='red')\n",
    "\n",
    "print(f\"\"\"gamma: {gamma}, \n",
    "        learning: {learning_rate},\n",
    "        tau: {tau}, \n",
    "        beta: {beta_}\"\"\")"
   ]
  },
  {
   "cell_type": "code",
   "execution_count": 62,
   "metadata": {},
   "outputs": [
    {
     "name": "stdout",
     "output_type": "stream",
     "text": [
      "gamma: 0.999, \n",
      "        learning: 0.025,\n",
      "        tau: 0.075, \n",
      "        beta: 0.0003\n"
     ]
    },
    {
     "data": {
      "image/png": "[encoded data removed]",
      "text/plain": [
       "<Figure size 1200x600 with 2 Axes>"
      ]
     },
     "metadata": {},
     "output_type": "display_data"
    }
   ],
   "source": [
    "fig, (ax1, ax2) = plt.subplots(1,2, figsize=(12,6))\n",
    "\n",
    "ax1.plot(pd.DataFrame(all_exper_rewards_1).mean(axis=0))\n",
    "ax2.plot(pd.DataFrame(all_exper_rewards_2).mean(axis=0))\n",
    "\n",
    "ax1.set_ylim(0.18, .35)\n",
    "ax2.set_ylim(0.18, .35)\n",
    "\n",
    "ax1.axhline(0.47137645*.47293, 0, total_iterations)\n",
    "ax2.axhline(0.47137645*.47293, 0, total_iterations)\n",
    "\n",
    "ax1.axhline(0.36486244*.92498, 0, total_iterations, c='red')\n",
    "ax2.axhline(0.36486244*.92498, 0, total_iterations, c='red')\n",
    "\n",
    "print(f\"\"\"gamma: {gamma}, \n",
    "        learning: {learning_rate},\n",
    "        tau: {tau}, \n",
    "        beta: {beta_}\"\"\")"
   ]
  },
  {
   "cell_type": "code",
   "execution_count": 49,
   "metadata": {},
   "outputs": [
    {
     "data": {
      "text/plain": [
       "-3.070113457325394e-05"
      ]
     },
     "execution_count": 49,
     "metadata": {},
     "output_type": "execute_result"
    }
   ],
   "source": [
    "np.log(0.01)/150000"
   ]
  },
  {
   "cell_type": "code",
   "execution_count": 146,
   "metadata": {},
   "outputs": [
    {
     "data": {
      "text/plain": [
       "0.7397000365297469"
      ]
     },
     "execution_count": 146,
     "metadata": {},
     "output_type": "execute_result"
    }
   ],
   "source": [
    "monopoly_ = 0.36486244*.92498\n",
    "bertrand_ = 0.47137645*.47293\n",
    "\n",
    "p1_mean = pd.DataFrame(all_exper_rewards_1).mean(axis=0).tail(1000).mean()\n",
    "p2_mean = pd.DataFrame(all_exper_rewards_2).mean(axis=0).tail(1000).mean()\n",
    "\n",
    "mean_prof = np.mean([p1_mean, p2_mean])\n",
    "(mean_prof- bertrand_)/(monopoly_ - bertrand_)"
   ]
  },
  {
   "cell_type": "code",
   "execution_count": 20,
   "metadata": {},
   "outputs": [
    {
     "name": "stdout",
     "output_type": "stream",
     "text": [
      "gamma: 0.99, \n",
      "        learning: 0.025,\n",
      "        tau: 0.05\n"
     ]
    },
    {
     "data": {
      "image/png": "[encoded data removed]",
      "text/plain": [
       "<Figure size 1200x600 with 2 Axes>"
      ]
     },
     "metadata": {},
     "output_type": "display_data"
    }
   ],
   "source": [
    "fig, (ax1, ax2) = plt.subplots(1,2, figsize=(12,6))\n",
    "\n",
    "ax1.plot(pd.DataFrame(all_exper_rewards_1).mean(axis=0))\n",
    "ax2.plot(pd.DataFrame(all_exper_rewards_2).mean(axis=0))\n",
    "\n",
    "ax1.set_ylim(0.18, .35)\n",
    "ax2.set_ylim(0.18, .35)\n",
    "\n",
    "ax1.axhline(0.47137645*.47293, 0, total_iterations)\n",
    "ax2.axhline(0.47137645*.47293, 0, total_iterations)\n",
    "\n",
    "ax1.axhline(0.36486244*.92498, 0, total_iterations, c='red')\n",
    "ax2.axhline(0.36486244*.92498, 0, total_iterations, c='red')\n",
    "\n",
    "print(f\"\"\"gamma: {gamma}, \n",
    "        learning: {learning_rate},\n",
    "        tau: {tau}\"\"\")"
   ]
  },
  {
   "cell_type": "code",
   "execution_count": 12,
   "metadata": {},
   "outputs": [
    {
     "name": "stdout",
     "output_type": "stream",
     "text": [
      "gamma: 0.99, \n",
      "        learning: 0.025,\n",
      "        tau: 0.025\n"
     ]
    },
    {
     "data": {
      "image/png": "[encoded data removed]",
      "text/plain": [
       "<Figure size 1200x600 with 2 Axes>"
      ]
     },
     "metadata": {},
     "output_type": "display_data"
    }
   ],
   "source": [
    "fig, (ax1, ax2) = plt.subplots(1,2, figsize=(12,6))\n",
    "\n",
    "ax1.plot(pd.DataFrame(all_exper_rewards_1).mean(axis=0))\n",
    "ax2.plot(pd.DataFrame(all_exper_rewards_2).mean(axis=0))\n",
    "\n",
    "ax1.set_ylim(0.18, .35)\n",
    "ax2.set_ylim(0.18, .35)\n",
    "\n",
    "ax1.axhline(0.47137645*.47293, 0, total_iterations)\n",
    "ax2.axhline(0.47137645*.47293, 0, total_iterations)\n",
    "\n",
    "ax1.axhline(0.36486244*.92498, 0, total_iterations, c='red')\n",
    "ax2.axhline(0.36486244*.92498, 0, total_iterations, c='red')\n",
    "\n",
    "print(f\"\"\"gamma: {gamma}, \n",
    "        learning: {learning_rate},\n",
    "        tau: {tau}\"\"\")"
   ]
  },
  {
   "cell_type": "code",
   "execution_count": 150,
   "metadata": {},
   "outputs": [],
   "source": [
    "# Multiagents\n",
    "\n",
    "import numpy as np\n",
    "\n",
    "class SimpleEconEnvironmentFive:\n",
    "    def __init__(self, mu=0.25, a_vec=np.array([0,2,2,2,2,2])):\n",
    "        self.mu = mu\n",
    "        self.a_vec = a_vec\n",
    "    \n",
    "    def aggregate_demand(self, p1, p2, p3, p4, p5):\n",
    "        p_vec = np.array([0, p1, p2, p3, p4, p5])\n",
    "        all_terms = np.exp((self.a_vec - p_vec)/self.mu)\n",
    "        return (all_terms / np.sum(all_terms))[1:]\n",
    "    \n",
    "    def __call__(self, p1, p2, p3, p4, p5):\n",
    "        return self.aggregate_demand(p1, p2, p3, p4, p5)"
   ]
  },
  {
   "cell_type": "code",
   "execution_count": 162,
   "metadata": {},
   "outputs": [
    {
     "data": {
      "text/plain": [
       "array([0.19832907, 0.19832907, 0.19832907, 0.19832907, 0.19832907])"
      ]
     },
     "execution_count": 162,
     "metadata": {},
     "output_type": "execute_result"
    }
   ],
   "source": [
    "env_abd = SimpleEconEnvironmentFive()\n",
    "env_abd(1.2082229999999998, 1.2082229999999998, 1.2082229999999998, 1.2082229999999998, 1.2082229999999998)"
   ]
  },
  {
   "cell_type": "code",
   "execution_count": 181,
   "metadata": {},
   "outputs": [
    {
     "data": {
      "text/plain": [
       "1.2082229999999998"
      ]
     },
     "execution_count": 181,
     "metadata": {},
     "output_type": "execute_result"
    }
   ],
   "source": [
    "1.27293 - 0.1*(1.92-1.27293)"
   ]
  },
  {
   "cell_type": "code",
   "execution_count": 182,
   "metadata": {},
   "outputs": [
    {
     "data": {
      "text/plain": [
       "0.04120018340440996"
      ]
     },
     "execution_count": 182,
     "metadata": {},
     "output_type": "execute_result"
    }
   ],
   "source": [
    "0.19786567*(.2082229999999998)"
   ]
  },
  {
   "cell_type": "code",
   "execution_count": 194,
   "metadata": {},
   "outputs": [
    {
     "name": "stdout",
     "output_type": "stream",
     "text": [
      "Starting experiment No.: 0\n",
      "0.06300262047555441\n",
      "0.06300262047555441\n",
      "0.06300262047555441\n",
      "0.06300262047555441\n",
      "0.06300262047555441\n",
      "Starting experiment No.: 1\n",
      "0.06300262047555441\n",
      "0.06300262047555441\n",
      "0.06300262047555441\n",
      "0.06300262047555441\n",
      "0.06300262047555441\n",
      "Starting experiment No.: 2\n"
     ]
    },
    {
     "ename": "KeyboardInterrupt",
     "evalue": "",
     "output_type": "error",
     "traceback": [
      "\u001b[0;31m---------------------------------------------------------------------------\u001b[0m",
      "\u001b[0;31mKeyboardInterrupt\u001b[0m                         Traceback (most recent call last)",
      "Cell \u001b[0;32mIn[194], line 174\u001b[0m\n\u001b[1;32m    172\u001b[0m \u001b[39mif\u001b[39;00m train_iter_ \u001b[39m%\u001b[39m shift_delay \u001b[39m==\u001b[39m \u001b[39m0\u001b[39m:\n\u001b[1;32m    173\u001b[0m     soft_update_nets(policy_net_a1, target_net_a1, tau)\n\u001b[0;32m--> 174\u001b[0m     soft_update_nets(policy_net_a2, target_net_a2, tau)\n\u001b[1;32m    175\u001b[0m     soft_update_nets(policy_net_a3, target_net_a3, tau)\n\u001b[1;32m    176\u001b[0m     soft_update_nets(policy_net_a4, target_net_a4, tau)\n",
      "Cell \u001b[0;32mIn[50], line 129\u001b[0m, in \u001b[0;36msoft_update_nets\u001b[0;34m(model, target_model, tau)\u001b[0m\n\u001b[1;32m    127\u001b[0m \u001b[39mfor\u001b[39;00m key \u001b[39min\u001b[39;00m model_states:\n\u001b[1;32m    128\u001b[0m     target_states[key] \u001b[39m=\u001b[39m tau\u001b[39m*\u001b[39mmodel_states[key] \u001b[39m+\u001b[39m (\u001b[39m1\u001b[39m\u001b[39m-\u001b[39mtau)\u001b[39m*\u001b[39mtarget_states[key]\n\u001b[0;32m--> 129\u001b[0m target_model\u001b[39m.\u001b[39;49mload_state_dict(target_states)\n",
      "File \u001b[0;32m~/Documents/Uni/PhD/UQAM/courses/RL/mcgill_precup/project/env_rlp/lib/python3.10/site-packages/torch/nn/modules/module.py:2027\u001b[0m, in \u001b[0;36mModule.load_state_dict\u001b[0;34m(self, state_dict, strict)\u001b[0m\n\u001b[1;32m   2020\u001b[0m         out \u001b[39m=\u001b[39m hook(module, incompatible_keys)\n\u001b[1;32m   2021\u001b[0m         \u001b[39massert\u001b[39;00m out \u001b[39mis\u001b[39;00m \u001b[39mNone\u001b[39;00m, (\n\u001b[1;32m   2022\u001b[0m             \u001b[39m\"\u001b[39m\u001b[39mHooks registered with ``register_load_state_dict_post_hook`` are not\u001b[39m\u001b[39m\"\u001b[39m\n\u001b[1;32m   2023\u001b[0m             \u001b[39m\"\u001b[39m\u001b[39mexpected to return new values, if incompatible_keys need to be modified,\u001b[39m\u001b[39m\"\u001b[39m\n\u001b[1;32m   2024\u001b[0m             \u001b[39m\"\u001b[39m\u001b[39mit should be done inplace.\u001b[39m\u001b[39m\"\u001b[39m\n\u001b[1;32m   2025\u001b[0m         )\n\u001b[0;32m-> 2027\u001b[0m load(\u001b[39mself\u001b[39;49m, state_dict)\n\u001b[1;32m   2028\u001b[0m \u001b[39mdel\u001b[39;00m load\n\u001b[1;32m   2030\u001b[0m \u001b[39mif\u001b[39;00m strict:\n",
      "File \u001b[0;32m~/Documents/Uni/PhD/UQAM/courses/RL/mcgill_precup/project/env_rlp/lib/python3.10/site-packages/torch/nn/modules/module.py:2015\u001b[0m, in \u001b[0;36mModule.load_state_dict.<locals>.load\u001b[0;34m(module, local_state_dict, prefix)\u001b[0m\n\u001b[1;32m   2013\u001b[0m         child_prefix \u001b[39m=\u001b[39m prefix \u001b[39m+\u001b[39m name \u001b[39m+\u001b[39m \u001b[39m'\u001b[39m\u001b[39m.\u001b[39m\u001b[39m'\u001b[39m\n\u001b[1;32m   2014\u001b[0m         child_state_dict \u001b[39m=\u001b[39m {k: v \u001b[39mfor\u001b[39;00m k, v \u001b[39min\u001b[39;00m local_state_dict\u001b[39m.\u001b[39mitems() \u001b[39mif\u001b[39;00m k\u001b[39m.\u001b[39mstartswith(child_prefix)}\n\u001b[0;32m-> 2015\u001b[0m         load(child, child_state_dict, child_prefix)\n\u001b[1;32m   2017\u001b[0m \u001b[39m# Note that the hook can modify missing_keys and unexpected_keys.\u001b[39;00m\n\u001b[1;32m   2018\u001b[0m incompatible_keys \u001b[39m=\u001b[39m _IncompatibleKeys(missing_keys, unexpected_keys)\n",
      "File \u001b[0;32m~/Documents/Uni/PhD/UQAM/courses/RL/mcgill_precup/project/env_rlp/lib/python3.10/site-packages/torch/nn/modules/module.py:2014\u001b[0m, in \u001b[0;36mModule.load_state_dict.<locals>.load\u001b[0;34m(module, local_state_dict, prefix)\u001b[0m\n\u001b[1;32m   2012\u001b[0m     \u001b[39mif\u001b[39;00m child \u001b[39mis\u001b[39;00m \u001b[39mnot\u001b[39;00m \u001b[39mNone\u001b[39;00m:\n\u001b[1;32m   2013\u001b[0m         child_prefix \u001b[39m=\u001b[39m prefix \u001b[39m+\u001b[39m name \u001b[39m+\u001b[39m \u001b[39m'\u001b[39m\u001b[39m.\u001b[39m\u001b[39m'\u001b[39m\n\u001b[0;32m-> 2014\u001b[0m         child_state_dict \u001b[39m=\u001b[39m {k: v \u001b[39mfor\u001b[39;00m k, v \u001b[39min\u001b[39;00m local_state_dict\u001b[39m.\u001b[39;49mitems() \u001b[39mif\u001b[39;00m k\u001b[39m.\u001b[39mstartswith(child_prefix)}\n\u001b[1;32m   2015\u001b[0m         load(child, child_state_dict, child_prefix)\n\u001b[1;32m   2017\u001b[0m \u001b[39m# Note that the hook can modify missing_keys and unexpected_keys.\u001b[39;00m\n",
      "\u001b[0;31mKeyboardInterrupt\u001b[0m: "
     ]
    }
   ],
   "source": [
    "## Simulation \n",
    "# Parameters\n",
    "\n",
    "# Low batch size is better\n",
    "# Low state memory is better\n",
    "\n",
    "\n",
    "for  architec_ in [7]:\n",
    "    players=5\n",
    "    state_memory=1\n",
    "    n_actions = 15\n",
    "    gamma = 0.99\n",
    "\n",
    "    batch_size=64\n",
    "    total_iterations = 500000\n",
    "    shift_delay =1\n",
    "    \n",
    "    #architec_ = 5\n",
    "\n",
    "    beta_ = 2.5e-5\n",
    "    total_experiments = 5\n",
    "\n",
    "    # Initialize enviornment, state and action dict\n",
    "    envir_two_agents = SimpleEconEnvironmentFive(mu=0.25)\n",
    "\n",
    "    linspace_ = np.linspace(1.27293 - 0.1*(1.92-1.27293),\n",
    "                            1.92  + 0.1*(1.92-1.27293), \n",
    "                            15)\n",
    "    action_dict = dict(zip(range(15), linspace_))\n",
    "\n",
    "    # To catch results\n",
    "    all_exper_rewards_1 = []\n",
    "    all_exper_rewards_2 = []\n",
    "    all_exper_rewards_3 = []\n",
    "    all_exper_rewards_4 = []\n",
    "    all_exper_rewards_5 = []\n",
    "\n",
    "    for experiment_ in range(total_experiments):\n",
    "        print(f\"Starting experiment No.: {experiment_}\")\n",
    "\n",
    "        epsilon_init = 0.9\n",
    "\n",
    "        tau = 0.025\n",
    "        tau_decay=0\n",
    "        learning_rate=0.025\n",
    "        lr_decay = 0.0001\n",
    "\n",
    "        replay_buffer_1 = ReplayMemory(1000)\n",
    "        replay_buffer_2 = ReplayMemory(1000)\n",
    "        replay_buffer_3 = ReplayMemory(1000)\n",
    "        replay_buffer_4 = ReplayMemory(1000)\n",
    "        replay_buffer_5 = ReplayMemory(1000)\n",
    "\n",
    "        # Initialize nets\n",
    "        # Agent 1\n",
    "        policy_net_a1 = BaseMLP([architec_,architec_,architec_],\n",
    "                                input_size=state_memory*players,\n",
    "                                output_size=n_actions)\n",
    "        policy_net_a1.apply(init_weights)\n",
    "        \n",
    "        target_net_a1 = BaseMLP([architec_,architec_,architec_], input_size=state_memory*players, output_size=n_actions)\n",
    "        target_net_a1.load_state_dict(policy_net_a1.state_dict())\n",
    "        optimizer_a1 = optim.AdamW(policy_net_a1.parameters(), lr=learning_rate, amsgrad=True, weight_decay=0.000001)\n",
    "\n",
    "        # Agent 2\n",
    "        policy_net_a2 = BaseMLP([architec_,architec_,architec_], input_size=state_memory*players, output_size=n_actions)\n",
    "        policy_net_a2.apply(init_weights)\n",
    "\n",
    "        target_net_a2 = BaseMLP([architec_,architec_, architec_], input_size=state_memory*players, output_size=n_actions)\n",
    "        target_net_a2.load_state_dict(policy_net_a2.state_dict())\n",
    "        optimizer_a2 = optim.AdamW(policy_net_a2.parameters(), lr=learning_rate, amsgrad=True, weight_decay=0.000001)\n",
    "\n",
    "        # Agent 3\n",
    "        policy_net_a3 = BaseMLP([architec_,architec_,architec_], input_size=state_memory*players, output_size=n_actions)\n",
    "        policy_net_a3.apply(init_weights)\n",
    "\n",
    "        target_net_a3 = BaseMLP([architec_,architec_, architec_], input_size=state_memory*players, output_size=n_actions)\n",
    "        target_net_a3.load_state_dict(policy_net_a3.state_dict())\n",
    "        optimizer_a3 = optim.AdamW(policy_net_a3.parameters(), lr=learning_rate, amsgrad=True, weight_decay=0.000001)\n",
    "\n",
    "        # Agent 4\n",
    "        policy_net_a4 = BaseMLP([architec_,architec_,architec_], input_size=state_memory*players, output_size=n_actions)\n",
    "        policy_net_a4.apply(init_weights)\n",
    "\n",
    "        target_net_a4 = BaseMLP([architec_,architec_, architec_], input_size=state_memory*players, output_size=n_actions)\n",
    "        target_net_a4.load_state_dict(policy_net_a4.state_dict())\n",
    "        optimizer_a4 = optim.AdamW(policy_net_a4.parameters(), lr=learning_rate, amsgrad=True, weight_decay=0.000001)\n",
    "\n",
    "        # Agent 5\n",
    "        policy_net_a5 = BaseMLP([architec_,architec_,architec_], input_size=state_memory*players, output_size=n_actions)\n",
    "        policy_net_a5.apply(init_weights)\n",
    "\n",
    "        target_net_a5 = BaseMLP([architec_,architec_, architec_], input_size=state_memory*players, output_size=n_actions)\n",
    "        target_net_a5.load_state_dict(policy_net_a5.state_dict())\n",
    "        optimizer_a5 = optim.AdamW(policy_net_a5.parameters(), lr=learning_rate, amsgrad=True, weight_decay=0.00001)\n",
    "\n",
    "        # Initialize a state\n",
    "        np.random.seed(experiment_)\n",
    "        state = torch.tensor(np.random.uniform(low=1.27,\n",
    "                                            high=2,\n",
    "                                            size=(players*state_memory,)),\n",
    "                            dtype=torch.float32).reshape(1,players*state_memory)\n",
    "\n",
    "        rewards_a1 = []\n",
    "        rewards_a2 = []\n",
    "        rewards_a3 = []\n",
    "        rewards_a4 = []\n",
    "        rewards_a5 = []\n",
    "\n",
    "        for train_iter_ in range(total_iterations):\n",
    "\n",
    "            if train_iter_ > batch_size:\n",
    "\n",
    "                action_a1 = select_action_training(policy_net_a1, state, epsilon_init)\n",
    "                action_value_a1 = int(action_a1.detach().numpy()[0])\n",
    "                price_a1 = action_dict[action_value_a1]\n",
    "\n",
    "                action_a2 = select_action_training(policy_net_a2, state, epsilon_init)\n",
    "                action_value_a2 = int(action_a2.detach().numpy()[0])\n",
    "                price_a2 = action_dict[action_value_a2]\n",
    "\n",
    "                action_a3 = select_action_training(policy_net_a3, state, epsilon_init)\n",
    "                action_value_a3 = int(action_a3.detach().numpy()[0])\n",
    "                price_a3 = action_dict[action_value_a3]\n",
    "\n",
    "                action_a4 = select_action_training(policy_net_a4, state, epsilon_init)\n",
    "                action_value_a4 = int(action_a4.detach().numpy()[0])\n",
    "                price_a4 = action_dict[action_value_a4]\n",
    "\n",
    "                action_a5 = select_action_training(policy_net_a5, state, epsilon_init)\n",
    "                action_value_a5 = int(action_a5.detach().numpy()[0])\n",
    "                price_a5 = action_dict[action_value_a5]\n",
    "\n",
    "                price_tensor = torch.tensor([price_a1, price_a2, price_a3, price_a4, price_a5], \n",
    "                                            dtype=torch.float32).reshape(1,-1)\n",
    "                \n",
    "                demand_1, demand_2, demand_3, demand_4, demand_5 = envir_two_agents(price_a1, price_a2, price_a3, price_a4, price_a5)\n",
    "\n",
    "                reward_a1 = torch.tensor((price_a1 - 1)*demand_1).reshape(1,-1)\n",
    "                reward_a2 = torch.tensor((price_a2 - 1)*demand_2).reshape(1,-1)\n",
    "                reward_a3 = torch.tensor((price_a3 - 1)*demand_3).reshape(1,-1)\n",
    "                reward_a4 = torch.tensor((price_a4 - 1)*demand_4).reshape(1,-1)\n",
    "                reward_a5 = torch.tensor((price_a5 - 1)*demand_5).reshape(1,-1)\n",
    "\n",
    "                rewards_a1.append((price_a1 - 1)*demand_1)\n",
    "                rewards_a2.append((price_a2 - 1)*demand_2)\n",
    "                rewards_a3.append((price_a3 - 1)*demand_3)\n",
    "                rewards_a4.append((price_a4 - 1)*demand_4)\n",
    "                rewards_a5.append((price_a5 - 1)*demand_5)\n",
    "\n",
    "                next_state = torch.cat([state[:,players:], price_tensor], 1)\n",
    "\n",
    "                replay_buffer_1.push(state, action_a1.reshape(1,1), next_state, reward_a1)\n",
    "                replay_buffer_2.push(state, action_a2.reshape(1,1), next_state, reward_a2)\n",
    "                replay_buffer_3.push(state, action_a3.reshape(1,1), next_state, reward_a3)\n",
    "                replay_buffer_4.push(state, action_a4.reshape(1,1), next_state, reward_a4)\n",
    "                replay_buffer_5.push(state, action_a5.reshape(1,1), next_state, reward_a5)\n",
    "\n",
    "                # Train policy model \n",
    "                train_model(replay_buffer_1, policy_net_a1, target_net_a1, optimizer_a1, batch_size=batch_size)\n",
    "                train_model(replay_buffer_2, policy_net_a2, target_net_a2, optimizer_a2, batch_size=batch_size)\n",
    "                train_model(replay_buffer_3, policy_net_a3, target_net_a3, optimizer_a3, batch_size=batch_size)\n",
    "                train_model(replay_buffer_4, policy_net_a4, target_net_a4, optimizer_a4, batch_size=batch_size)\n",
    "                train_model(replay_buffer_5, policy_net_a5, target_net_a5, optimizer_a5, batch_size=batch_size)\n",
    "\n",
    "                state = next_state\n",
    "\n",
    "    #            epsilon_init = epsilon_init*(1-epsilon_decay)\n",
    "                epsilon_init = np.exp(-(train_iter_-batch_size)*beta_)\n",
    "\n",
    "\n",
    "                if train_iter_ % shift_delay == 0:\n",
    "                    soft_update_nets(policy_net_a1, target_net_a1, tau)\n",
    "                    soft_update_nets(policy_net_a2, target_net_a2, tau)\n",
    "                    soft_update_nets(policy_net_a3, target_net_a3, tau)\n",
    "                    soft_update_nets(policy_net_a4, target_net_a4, tau)\n",
    "                    soft_update_nets(policy_net_a5, target_net_a5, tau)\n",
    "\n",
    "                    tau = tau*(1-tau_decay)\n",
    "            \n",
    "            else:\n",
    "                action_a1 = select_action_training(policy_net_a1, state, epsilon_init)\n",
    "                action_value_a1 = int(action_a1.detach().numpy()[0])\n",
    "                price_a1 = action_dict[action_value_a1]\n",
    "\n",
    "                action_a2 = select_action_training(policy_net_a2, state, epsilon_init)\n",
    "                action_value_a2 = int(action_a2.detach().numpy()[0])\n",
    "                price_a2 = action_dict[action_value_a2]\n",
    "\n",
    "                action_a3 = select_action_training(policy_net_a3, state, epsilon_init)\n",
    "                action_value_a3 = int(action_a3.detach().numpy()[0])\n",
    "                price_a3 = action_dict[action_value_a3]\n",
    "\n",
    "                action_a4 = select_action_training(policy_net_a4, state, epsilon_init)\n",
    "                action_value_a4 = int(action_a4.detach().numpy()[0])\n",
    "                price_a4 = action_dict[action_value_a4]\n",
    "\n",
    "                action_a5 = select_action_training(policy_net_a5, state, epsilon_init)\n",
    "                action_value_a5 = int(action_a5.detach().numpy()[0])\n",
    "                price_a5 = action_dict[action_value_a5]\n",
    "\n",
    "                price_tensor = torch.tensor([price_a1, price_a2, price_a3, price_a4, price_a5], \n",
    "                                            dtype=torch.float32).reshape(1,-1)\n",
    "                \n",
    "                demand_1, demand_2, demand_3, demand_4, demand_5 = envir_two_agents(price_a1, price_a2, price_a3, price_a4, price_a5)\n",
    "\n",
    "                reward_a1 = torch.tensor((price_a1 - 1)*demand_1).reshape(1,-1)\n",
    "                reward_a2 = torch.tensor((price_a2 - 1)*demand_2).reshape(1,-1)\n",
    "                reward_a3 = torch.tensor((price_a3 - 1)*demand_3).reshape(1,-1)\n",
    "                reward_a4 = torch.tensor((price_a4 - 1)*demand_4).reshape(1,-1)\n",
    "                reward_a5 = torch.tensor((price_a5 - 1)*demand_5).reshape(1,-1)\n",
    "\n",
    "                next_state = torch.cat([state[:,players:], price_tensor], 1)\n",
    "\n",
    "                replay_buffer_1.push(state, action_a1.reshape(1,1), next_state, reward_a1)\n",
    "                replay_buffer_2.push(state, action_a2.reshape(1,1), next_state, reward_a2)\n",
    "                replay_buffer_3.push(state, action_a3.reshape(1,1), next_state, reward_a3)\n",
    "                replay_buffer_4.push(state, action_a4.reshape(1,1), next_state, reward_a4)\n",
    "                replay_buffer_5.push(state, action_a5.reshape(1,1), next_state, reward_a5)\n",
    "\n",
    "                state = next_state\n",
    "\n",
    "        all_exper_rewards_1.append(rewards_a1)\n",
    "        all_exper_rewards_2.append(rewards_a2)\n",
    "        all_exper_rewards_3.append(rewards_a3)\n",
    "        all_exper_rewards_4.append(rewards_a4)\n",
    "        all_exper_rewards_5.append(rewards_a5)\n",
    "\n",
    "        print(np.mean(rewards_a1[-1000:]))\n",
    "        print(np.mean(rewards_a2[-1000:]))\n",
    "        print(np.mean(rewards_a3[-1000:]))\n",
    "        print(np.mean(rewards_a4[-1000:]))\n",
    "        print(np.mean(rewards_a5[-1000:]))\n",
    "\n",
    "\n",
    "\n",
    "    # print(batch_size)\n",
    "    # monopoly_ = 0.36486244*.92498\n",
    "    # bertrand_ = 0.47137645*.47293\n",
    "\n",
    "    # p1_mean = pd.DataFrame(all_exper_rewards_1).mean(axis=0).tail(1000).mean()\n",
    "    # p2_mean = pd.DataFrame(all_exper_rewards_2).mean(axis=0).tail(1000).mean()\n",
    "\n",
    "    # mean_prof = np.mean([p1_mean, p2_mean])\n",
    "    # print((mean_prof- bertrand_)/(monopoly_ - bertrand_))"
   ]
  },
  {
   "cell_type": "code",
   "execution_count": 217,
   "metadata": {},
   "outputs": [
    {
     "data": {
      "text/plain": [
       "[<matplotlib.lines.Line2D at 0x29f40e440>]"
      ]
     },
     "execution_count": 217,
     "metadata": {},
     "output_type": "execute_result"
    },
    {
     "data": {
      "image/png": "[encoded data removed]",
      "text/plain": [
       "<Figure size 640x480 with 1 Axes>"
      ]
     },
     "metadata": {},
     "output_type": "display_data"
    }
   ],
   "source": [
    "plt.plot(pd.DataFrame(all_exper_rewards_1).mean(axis=0))"
   ]
  },
  {
   "cell_type": "code",
   "execution_count": 190,
   "metadata": {},
   "outputs": [
    {
     "data": {
      "text/plain": [
       "[<matplotlib.lines.Line2D at 0x152f5a7a0>]"
      ]
     },
     "execution_count": 190,
     "metadata": {},
     "output_type": "execute_result"
    },
    {
     "data": {
      "image/png": "[encoded data removed]",
      "text/plain": [
       "<Figure size 640x480 with 1 Axes>"
      ]
     },
     "metadata": {},
     "output_type": "display_data"
    }
   ],
   "source": [
    "plt.plot(pd.DataFrame(all_exper_rewards_5).mean(axis=0))"
   ]
  },
  {
   "cell_type": "code",
   "execution_count": 189,
   "metadata": {},
   "outputs": [],
   "source": [
    "# pd.DataFrame(all_exper_rewards_1).to_csv('~/Downloads/five_actors_res_1.csv', index=False)\n",
    "# pd.DataFrame(all_exper_rewards_2).to_csv('~/Downloads/five_actors_res_2.csv', index=False)\n",
    "# pd.DataFrame(all_exper_rewards_3).to_csv('~/Downloads/five_actors_res_3.csv', index=False)\n",
    "# pd.DataFrame(all_exper_rewards_4).to_csv('~/Downloads/five_actors_res_4.csv', index=False)\n",
    "# pd.DataFrame(all_exper_rewards_5).to_csv('~/Downloads/five_actors_res_5.csv', index=False)"
   ]
  },
  {
   "cell_type": "code",
   "execution_count": 218,
   "metadata": {},
   "outputs": [],
   "source": [
    "k_ = pd.read_csv('~/Downloads/five_actors_res_1.csv')"
   ]
  },
  {
   "cell_type": "code",
   "execution_count": 221,
   "metadata": {},
   "outputs": [
    {
     "data": {
      "text/plain": [
       "0.084095"
      ]
     },
     "execution_count": 221,
     "metadata": {},
     "output_type": "execute_result"
    }
   ],
   "source": [
    "0.084095"
   ]
  },
  {
   "cell_type": "code",
   "execution_count": 220,
   "metadata": {},
   "outputs": [
    {
     "data": {
      "text/plain": [
       "498935    0.084095\n",
       "498936    0.084095\n",
       "498937    0.084095\n",
       "498938    0.084095\n",
       "498939    0.084095\n",
       "            ...   \n",
       "499930    0.084095\n",
       "499931    0.084095\n",
       "499932    0.084095\n",
       "499933    0.084095\n",
       "499934    0.084095\n",
       "Length: 1000, dtype: float64"
      ]
     },
     "execution_count": 220,
     "metadata": {},
     "output_type": "execute_result"
    }
   ],
   "source": [
    "k_.mean(axis=0).tail(1000)"
   ]
  },
  {
   "cell_type": "code",
   "execution_count": 171,
   "metadata": {},
   "outputs": [],
   "source": [
    "#pd.DataFrame(all_exper_rewards_1).to_csv('~/Downloads/five_actors_1.csv', index=False)"
   ]
  },
  {
   "cell_type": "code",
   "execution_count": 165,
   "metadata": {},
   "outputs": [
    {
     "ename": "KeyboardInterrupt",
     "evalue": "",
     "output_type": "error",
     "traceback": [
      "\u001b[0;31m---------------------------------------------------------------------------\u001b[0m",
      "\u001b[0;31mKeyboardInterrupt\u001b[0m                         Traceback (most recent call last)",
      "Cell \u001b[0;32mIn[165], line 1\u001b[0m\n\u001b[0;32m----> 1\u001b[0m plt\u001b[39m.\u001b[39;49mplot(all_exper_rewards_5)\n",
      "File \u001b[0;32m~/Documents/Uni/PhD/UQAM/courses/RL/mcgill_precup/project/env_rlp/lib/python3.10/site-packages/matplotlib/pyplot.py:2812\u001b[0m, in \u001b[0;36mplot\u001b[0;34m(scalex, scaley, data, *args, **kwargs)\u001b[0m\n\u001b[1;32m   2810\u001b[0m \u001b[39m@_copy_docstring_and_deprecators\u001b[39m(Axes\u001b[39m.\u001b[39mplot)\n\u001b[1;32m   2811\u001b[0m \u001b[39mdef\u001b[39;00m \u001b[39mplot\u001b[39m(\u001b[39m*\u001b[39margs, scalex\u001b[39m=\u001b[39m\u001b[39mTrue\u001b[39;00m, scaley\u001b[39m=\u001b[39m\u001b[39mTrue\u001b[39;00m, data\u001b[39m=\u001b[39m\u001b[39mNone\u001b[39;00m, \u001b[39m*\u001b[39m\u001b[39m*\u001b[39mkwargs):\n\u001b[0;32m-> 2812\u001b[0m     \u001b[39mreturn\u001b[39;00m gca()\u001b[39m.\u001b[39;49mplot(\n\u001b[1;32m   2813\u001b[0m         \u001b[39m*\u001b[39;49margs, scalex\u001b[39m=\u001b[39;49mscalex, scaley\u001b[39m=\u001b[39;49mscaley,\n\u001b[1;32m   2814\u001b[0m         \u001b[39m*\u001b[39;49m\u001b[39m*\u001b[39;49m({\u001b[39m\"\u001b[39;49m\u001b[39mdata\u001b[39;49m\u001b[39m\"\u001b[39;49m: data} \u001b[39mif\u001b[39;49;00m data \u001b[39mis\u001b[39;49;00m \u001b[39mnot\u001b[39;49;00m \u001b[39mNone\u001b[39;49;00m \u001b[39melse\u001b[39;49;00m {}), \u001b[39m*\u001b[39;49m\u001b[39m*\u001b[39;49mkwargs)\n",
      "File \u001b[0;32m~/Documents/Uni/PhD/UQAM/courses/RL/mcgill_precup/project/env_rlp/lib/python3.10/site-packages/matplotlib/axes/_axes.py:1688\u001b[0m, in \u001b[0;36mAxes.plot\u001b[0;34m(self, scalex, scaley, data, *args, **kwargs)\u001b[0m\n\u001b[1;32m   1445\u001b[0m \u001b[39m\u001b[39m\u001b[39m\"\"\"\u001b[39;00m\n\u001b[1;32m   1446\u001b[0m \u001b[39mPlot y versus x as lines and/or markers.\u001b[39;00m\n\u001b[1;32m   1447\u001b[0m \n\u001b[0;32m   (...)\u001b[0m\n\u001b[1;32m   1685\u001b[0m \u001b[39m(``'green'``) or hex strings (``'#008000'``).\u001b[39;00m\n\u001b[1;32m   1686\u001b[0m \u001b[39m\"\"\"\u001b[39;00m\n\u001b[1;32m   1687\u001b[0m kwargs \u001b[39m=\u001b[39m cbook\u001b[39m.\u001b[39mnormalize_kwargs(kwargs, mlines\u001b[39m.\u001b[39mLine2D)\n\u001b[0;32m-> 1688\u001b[0m lines \u001b[39m=\u001b[39m [\u001b[39m*\u001b[39m\u001b[39mself\u001b[39m\u001b[39m.\u001b[39m_get_lines(\u001b[39m*\u001b[39margs, data\u001b[39m=\u001b[39mdata, \u001b[39m*\u001b[39m\u001b[39m*\u001b[39mkwargs)]\n\u001b[1;32m   1689\u001b[0m \u001b[39mfor\u001b[39;00m line \u001b[39min\u001b[39;00m lines:\n\u001b[1;32m   1690\u001b[0m     \u001b[39mself\u001b[39m\u001b[39m.\u001b[39madd_line(line)\n",
      "File \u001b[0;32m~/Documents/Uni/PhD/UQAM/courses/RL/mcgill_precup/project/env_rlp/lib/python3.10/site-packages/matplotlib/axes/_base.py:311\u001b[0m, in \u001b[0;36m_process_plot_var_args.__call__\u001b[0;34m(self, data, *args, **kwargs)\u001b[0m\n\u001b[1;32m    309\u001b[0m     this \u001b[39m+\u001b[39m\u001b[39m=\u001b[39m args[\u001b[39m0\u001b[39m],\n\u001b[1;32m    310\u001b[0m     args \u001b[39m=\u001b[39m args[\u001b[39m1\u001b[39m:]\n\u001b[0;32m--> 311\u001b[0m \u001b[39myield from\u001b[39;00m \u001b[39mself\u001b[39;49m\u001b[39m.\u001b[39;49m_plot_args(\n\u001b[1;32m    312\u001b[0m     this, kwargs, ambiguous_fmt_datakey\u001b[39m=\u001b[39;49mambiguous_fmt_datakey)\n",
      "File \u001b[0;32m~/Documents/Uni/PhD/UQAM/courses/RL/mcgill_precup/project/env_rlp/lib/python3.10/site-packages/matplotlib/axes/_base.py:544\u001b[0m, in \u001b[0;36m_process_plot_var_args._plot_args\u001b[0;34m(self, tup, kwargs, return_kwargs, ambiguous_fmt_datakey)\u001b[0m\n\u001b[1;32m    542\u001b[0m     \u001b[39mreturn\u001b[39;00m \u001b[39mlist\u001b[39m(result)\n\u001b[1;32m    543\u001b[0m \u001b[39melse\u001b[39;00m:\n\u001b[0;32m--> 544\u001b[0m     \u001b[39mreturn\u001b[39;00m [l[\u001b[39m0\u001b[39m] \u001b[39mfor\u001b[39;00m l \u001b[39min\u001b[39;00m result]\n",
      "File \u001b[0;32m~/Documents/Uni/PhD/UQAM/courses/RL/mcgill_precup/project/env_rlp/lib/python3.10/site-packages/matplotlib/axes/_base.py:544\u001b[0m, in \u001b[0;36m<listcomp>\u001b[0;34m(.0)\u001b[0m\n\u001b[1;32m    542\u001b[0m     \u001b[39mreturn\u001b[39;00m \u001b[39mlist\u001b[39m(result)\n\u001b[1;32m    543\u001b[0m \u001b[39melse\u001b[39;00m:\n\u001b[0;32m--> 544\u001b[0m     \u001b[39mreturn\u001b[39;00m [l[\u001b[39m0\u001b[39m] \u001b[39mfor\u001b[39;00m l \u001b[39min\u001b[39;00m result]\n",
      "File \u001b[0;32m~/Documents/Uni/PhD/UQAM/courses/RL/mcgill_precup/project/env_rlp/lib/python3.10/site-packages/matplotlib/axes/_base.py:537\u001b[0m, in \u001b[0;36m<genexpr>\u001b[0;34m(.0)\u001b[0m\n\u001b[1;32m    534\u001b[0m \u001b[39melse\u001b[39;00m:\n\u001b[1;32m    535\u001b[0m     labels \u001b[39m=\u001b[39m [label] \u001b[39m*\u001b[39m n_datasets\n\u001b[0;32m--> 537\u001b[0m result \u001b[39m=\u001b[39m (make_artist(x[:, j \u001b[39m%\u001b[39;49m ncx], y[:, j \u001b[39m%\u001b[39;49m ncy], kw,\n\u001b[1;32m    538\u001b[0m                       {\u001b[39m*\u001b[39;49m\u001b[39m*\u001b[39;49mkwargs, \u001b[39m'\u001b[39;49m\u001b[39mlabel\u001b[39;49m\u001b[39m'\u001b[39;49m: label})\n\u001b[1;32m    539\u001b[0m           \u001b[39mfor\u001b[39;00m j, label \u001b[39min\u001b[39;00m \u001b[39menumerate\u001b[39m(labels))\n\u001b[1;32m    541\u001b[0m \u001b[39mif\u001b[39;00m return_kwargs:\n\u001b[1;32m    542\u001b[0m     \u001b[39mreturn\u001b[39;00m \u001b[39mlist\u001b[39m(result)\n",
      "File \u001b[0;32m~/Documents/Uni/PhD/UQAM/courses/RL/mcgill_precup/project/env_rlp/lib/python3.10/site-packages/matplotlib/axes/_base.py:351\u001b[0m, in \u001b[0;36m_process_plot_var_args._makeline\u001b[0;34m(self, x, y, kw, kwargs)\u001b[0m\n\u001b[1;32m    349\u001b[0m default_dict \u001b[39m=\u001b[39m \u001b[39mself\u001b[39m\u001b[39m.\u001b[39m_getdefaults(\u001b[39mset\u001b[39m(), kw)\n\u001b[1;32m    350\u001b[0m \u001b[39mself\u001b[39m\u001b[39m.\u001b[39m_setdefaults(default_dict, kw)\n\u001b[0;32m--> 351\u001b[0m seg \u001b[39m=\u001b[39m mlines\u001b[39m.\u001b[39;49mLine2D(x, y, \u001b[39m*\u001b[39;49m\u001b[39m*\u001b[39;49mkw)\n\u001b[1;32m    352\u001b[0m \u001b[39mreturn\u001b[39;00m seg, kw\n",
      "File \u001b[0;32m~/Documents/Uni/PhD/UQAM/courses/RL/mcgill_precup/project/env_rlp/lib/python3.10/site-packages/matplotlib/_api/deprecation.py:454\u001b[0m, in \u001b[0;36mmake_keyword_only.<locals>.wrapper\u001b[0;34m(*args, **kwargs)\u001b[0m\n\u001b[1;32m    448\u001b[0m \u001b[39mif\u001b[39;00m \u001b[39mlen\u001b[39m(args) \u001b[39m>\u001b[39m name_idx:\n\u001b[1;32m    449\u001b[0m     warn_deprecated(\n\u001b[1;32m    450\u001b[0m         since, message\u001b[39m=\u001b[39m\u001b[39m\"\u001b[39m\u001b[39mPassing the \u001b[39m\u001b[39m%(name)s\u001b[39;00m\u001b[39m \u001b[39m\u001b[39m%(obj_type)s\u001b[39;00m\u001b[39m \u001b[39m\u001b[39m\"\u001b[39m\n\u001b[1;32m    451\u001b[0m         \u001b[39m\"\u001b[39m\u001b[39mpositionally is deprecated since Matplotlib \u001b[39m\u001b[39m%(since)s\u001b[39;00m\u001b[39m; the \u001b[39m\u001b[39m\"\u001b[39m\n\u001b[1;32m    452\u001b[0m         \u001b[39m\"\u001b[39m\u001b[39mparameter will become keyword-only \u001b[39m\u001b[39m%(removal)s\u001b[39;00m\u001b[39m.\u001b[39m\u001b[39m\"\u001b[39m,\n\u001b[1;32m    453\u001b[0m         name\u001b[39m=\u001b[39mname, obj_type\u001b[39m=\u001b[39m\u001b[39mf\u001b[39m\u001b[39m\"\u001b[39m\u001b[39mparameter of \u001b[39m\u001b[39m{\u001b[39;00mfunc\u001b[39m.\u001b[39m\u001b[39m__name__\u001b[39m\u001b[39m}\u001b[39;00m\u001b[39m()\u001b[39m\u001b[39m\"\u001b[39m)\n\u001b[0;32m--> 454\u001b[0m \u001b[39mreturn\u001b[39;00m func(\u001b[39m*\u001b[39;49margs, \u001b[39m*\u001b[39;49m\u001b[39m*\u001b[39;49mkwargs)\n",
      "File \u001b[0;32m~/Documents/Uni/PhD/UQAM/courses/RL/mcgill_precup/project/env_rlp/lib/python3.10/site-packages/matplotlib/lines.py:308\u001b[0m, in \u001b[0;36mLine2D.__init__\u001b[0;34m(self, xdata, ydata, linewidth, linestyle, color, gapcolor, marker, markersize, markeredgewidth, markeredgecolor, markerfacecolor, markerfacecoloralt, fillstyle, antialiased, dash_capstyle, solid_capstyle, dash_joinstyle, solid_joinstyle, pickradius, drawstyle, markevery, **kwargs)\u001b[0m\n\u001b[1;32m    272\u001b[0m \u001b[39m@_api\u001b[39m\u001b[39m.\u001b[39mmake_keyword_only(\u001b[39m\"\u001b[39m\u001b[39m3.6\u001b[39m\u001b[39m\"\u001b[39m, name\u001b[39m=\u001b[39m\u001b[39m\"\u001b[39m\u001b[39mlinewidth\u001b[39m\u001b[39m\"\u001b[39m)\n\u001b[1;32m    273\u001b[0m \u001b[39mdef\u001b[39;00m \u001b[39m__init__\u001b[39m(\u001b[39mself\u001b[39m, xdata, ydata,\n\u001b[1;32m    274\u001b[0m              linewidth\u001b[39m=\u001b[39m\u001b[39mNone\u001b[39;00m,  \u001b[39m# all Nones default to rc\u001b[39;00m\n\u001b[0;32m   (...)\u001b[0m\n\u001b[1;32m    293\u001b[0m              \u001b[39m*\u001b[39m\u001b[39m*\u001b[39mkwargs\n\u001b[1;32m    294\u001b[0m              ):\n\u001b[1;32m    295\u001b[0m \u001b[39m    \u001b[39m\u001b[39m\"\"\"\u001b[39;00m\n\u001b[1;32m    296\u001b[0m \u001b[39m    Create a `.Line2D` instance with *x* and *y* data in sequences of\u001b[39;00m\n\u001b[1;32m    297\u001b[0m \u001b[39m    *xdata*, *ydata*.\u001b[39;00m\n\u001b[0;32m   (...)\u001b[0m\n\u001b[1;32m    306\u001b[0m \n\u001b[1;32m    307\u001b[0m \u001b[39m    \"\"\"\u001b[39;00m\n\u001b[0;32m--> 308\u001b[0m     \u001b[39msuper\u001b[39;49m()\u001b[39m.\u001b[39;49m\u001b[39m__init__\u001b[39;49m()\n\u001b[1;32m    310\u001b[0m     \u001b[39m# Convert sequences to NumPy arrays.\u001b[39;00m\n\u001b[1;32m    311\u001b[0m     \u001b[39mif\u001b[39;00m \u001b[39mnot\u001b[39;00m np\u001b[39m.\u001b[39miterable(xdata):\n",
      "File \u001b[0;32m~/Documents/Uni/PhD/UQAM/courses/RL/mcgill_precup/project/env_rlp/lib/python3.10/site-packages/matplotlib/artist.py:201\u001b[0m, in \u001b[0;36mArtist.__init__\u001b[0;34m(self)\u001b[0m\n\u001b[1;32m    198\u001b[0m \u001b[39m# Normally, artist classes need to be queried for mouseover info if and\u001b[39;00m\n\u001b[1;32m    199\u001b[0m \u001b[39m# only if they override get_cursor_data.\u001b[39;00m\n\u001b[1;32m    200\u001b[0m \u001b[39mself\u001b[39m\u001b[39m.\u001b[39m_mouseover \u001b[39m=\u001b[39m \u001b[39mtype\u001b[39m(\u001b[39mself\u001b[39m)\u001b[39m.\u001b[39mget_cursor_data \u001b[39m!=\u001b[39m Artist\u001b[39m.\u001b[39mget_cursor_data\n\u001b[0;32m--> 201\u001b[0m \u001b[39mself\u001b[39m\u001b[39m.\u001b[39m_callbacks \u001b[39m=\u001b[39m cbook\u001b[39m.\u001b[39;49mCallbackRegistry(signals\u001b[39m=\u001b[39;49m[\u001b[39m\"\u001b[39;49m\u001b[39mpchanged\u001b[39;49m\u001b[39m\"\u001b[39;49m])\n\u001b[1;32m    202\u001b[0m \u001b[39mtry\u001b[39;00m:\n\u001b[1;32m    203\u001b[0m     \u001b[39mself\u001b[39m\u001b[39m.\u001b[39maxes \u001b[39m=\u001b[39m \u001b[39mNone\u001b[39;00m\n",
      "\u001b[0;31mKeyboardInterrupt\u001b[0m: "
     ]
    },
    {
     "data": {
      "image/png": "[encoded data removed]",
      "text/plain": [
       "<Figure size 640x480 with 1 Axes>"
      ]
     },
     "metadata": {},
     "output_type": "display_data"
    }
   ],
   "source": [
    "plt.plot(all_exper_pd.DataFrame(all_exper_rewards_1)rewards_5)"
   ]
  },
  {
   "cell_type": "code",
   "execution_count": null,
   "metadata": {},
   "outputs": [],
   "source": []
  }
 ],
 "metadata": {
  "kernelspec": {
   "display_name": "env_rlp",
   "language": "python",
   "name": "env_rlp"
  },
  "language_info": {
   "codemirror_mode": {
    "name": "ipython",
    "version": 3
   },
   "file_extension": ".py",
   "mimetype": "text/x-python",
   "name": "python",
   "nbconvert_exporter": "python",
   "pygments_lexer": "ipython3",
   "version": "3.10.10"
  },
  "orig_nbformat": 4
 },
 "nbformat": 4,
 "nbformat_minor": 2
}
